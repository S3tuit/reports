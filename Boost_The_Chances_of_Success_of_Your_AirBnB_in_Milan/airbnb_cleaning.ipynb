{
 "cells": [
  {
   "cell_type": "code",
   "execution_count": 75,
   "metadata": {},
   "outputs": [],
   "source": [
    "import pandas as pd\n",
    "import numpy as np\n",
    "from datetime import datetime"
   ]
  },
  {
   "cell_type": "code",
   "execution_count": 76,
   "metadata": {},
   "outputs": [],
   "source": [
    "df_listing = pd.read_csv(r'C:\\Users\\matte\\OneDrive\\Desktop\\GitHub\\data\\Airbnb\\listings.csv')\n",
    "df_reviews = pd.read_csv(r'C:\\Users\\matte\\OneDrive\\Desktop\\GitHub\\data\\Airbnb\\reviews.csv')"
   ]
  },
  {
   "cell_type": "code",
   "execution_count": 77,
   "metadata": {},
   "outputs": [
    {
     "data": {
      "text/html": [
       "<div>\n",
       "<style scoped>\n",
       "    .dataframe tbody tr th:only-of-type {\n",
       "        vertical-align: middle;\n",
       "    }\n",
       "\n",
       "    .dataframe tbody tr th {\n",
       "        vertical-align: top;\n",
       "    }\n",
       "\n",
       "    .dataframe thead th {\n",
       "        text-align: right;\n",
       "    }\n",
       "</style>\n",
       "<table border=\"1\" class=\"dataframe\">\n",
       "  <thead>\n",
       "    <tr style=\"text-align: right;\">\n",
       "      <th></th>\n",
       "      <th>listing_id</th>\n",
       "      <th>date</th>\n",
       "    </tr>\n",
       "  </thead>\n",
       "  <tbody>\n",
       "    <tr>\n",
       "      <th>0</th>\n",
       "      <td>6400</td>\n",
       "      <td>2010-04-19</td>\n",
       "    </tr>\n",
       "    <tr>\n",
       "      <th>1</th>\n",
       "      <td>6400</td>\n",
       "      <td>2011-04-16</td>\n",
       "    </tr>\n",
       "    <tr>\n",
       "      <th>2</th>\n",
       "      <td>6400</td>\n",
       "      <td>2012-04-22</td>\n",
       "    </tr>\n",
       "    <tr>\n",
       "      <th>3</th>\n",
       "      <td>6400</td>\n",
       "      <td>2014-04-11</td>\n",
       "    </tr>\n",
       "    <tr>\n",
       "      <th>4</th>\n",
       "      <td>6400</td>\n",
       "      <td>2014-04-14</td>\n",
       "    </tr>\n",
       "  </tbody>\n",
       "</table>\n",
       "</div>"
      ],
      "text/plain": [
       "   listing_id        date\n",
       "0        6400  2010-04-19\n",
       "1        6400  2011-04-16\n",
       "2        6400  2012-04-22\n",
       "3        6400  2014-04-11\n",
       "4        6400  2014-04-14"
      ]
     },
     "metadata": {},
     "output_type": "display_data"
    },
    {
     "data": {
      "text/html": [
       "<div>\n",
       "<style scoped>\n",
       "    .dataframe tbody tr th:only-of-type {\n",
       "        vertical-align: middle;\n",
       "    }\n",
       "\n",
       "    .dataframe tbody tr th {\n",
       "        vertical-align: top;\n",
       "    }\n",
       "\n",
       "    .dataframe thead th {\n",
       "        text-align: right;\n",
       "    }\n",
       "</style>\n",
       "<table border=\"1\" class=\"dataframe\">\n",
       "  <thead>\n",
       "    <tr style=\"text-align: right;\">\n",
       "      <th></th>\n",
       "      <th>id</th>\n",
       "      <th>name</th>\n",
       "      <th>host_id</th>\n",
       "      <th>host_name</th>\n",
       "      <th>neighbourhood_group</th>\n",
       "      <th>neighbourhood</th>\n",
       "      <th>latitude</th>\n",
       "      <th>longitude</th>\n",
       "      <th>room_type</th>\n",
       "      <th>price</th>\n",
       "      <th>minimum_nights</th>\n",
       "      <th>number_of_reviews</th>\n",
       "      <th>last_review</th>\n",
       "      <th>reviews_per_month</th>\n",
       "      <th>calculated_host_listings_count</th>\n",
       "      <th>availability_365</th>\n",
       "      <th>number_of_reviews_ltm</th>\n",
       "      <th>license</th>\n",
       "    </tr>\n",
       "  </thead>\n",
       "  <tbody>\n",
       "    <tr>\n",
       "      <th>0</th>\n",
       "      <td>6400</td>\n",
       "      <td>Rental unit in Milan · ★4.89 · 3 bedrooms · 1 bed · 3.5 baths</td>\n",
       "      <td>13822</td>\n",
       "      <td>Francesca</td>\n",
       "      <td>NaN</td>\n",
       "      <td>TIBALDI</td>\n",
       "      <td>45.44119</td>\n",
       "      <td>9.17813</td>\n",
       "      <td>Private room</td>\n",
       "      <td>100.0</td>\n",
       "      <td>4</td>\n",
       "      <td>10</td>\n",
       "      <td>2019-04-13</td>\n",
       "      <td>0.06</td>\n",
       "      <td>1</td>\n",
       "      <td>358</td>\n",
       "      <td>0</td>\n",
       "      <td>NaN</td>\n",
       "    </tr>\n",
       "    <tr>\n",
       "      <th>1</th>\n",
       "      <td>23986</td>\n",
       "      <td>Rental unit in Milan · ★4.64 · 1 bedroom · 1 bed · 1 bath</td>\n",
       "      <td>95941</td>\n",
       "      <td>Jeremy</td>\n",
       "      <td>NaN</td>\n",
       "      <td>NAVIGLI</td>\n",
       "      <td>45.44806</td>\n",
       "      <td>9.17373</td>\n",
       "      <td>Entire home/apt</td>\n",
       "      <td>150.0</td>\n",
       "      <td>1</td>\n",
       "      <td>26</td>\n",
       "      <td>2023-07-29</td>\n",
       "      <td>0.18</td>\n",
       "      <td>1</td>\n",
       "      <td>359</td>\n",
       "      <td>4</td>\n",
       "      <td>NaN</td>\n",
       "    </tr>\n",
       "    <tr>\n",
       "      <th>2</th>\n",
       "      <td>24107</td>\n",
       "      <td>Condo in Milan · ★4.50 · 1 bedroom · 6 beds · 1 bath</td>\n",
       "      <td>46951</td>\n",
       "      <td>Valeria</td>\n",
       "      <td>NaN</td>\n",
       "      <td>CITTA' STUDI</td>\n",
       "      <td>45.47179</td>\n",
       "      <td>9.23669</td>\n",
       "      <td>Entire home/apt</td>\n",
       "      <td>100.0</td>\n",
       "      <td>1</td>\n",
       "      <td>4</td>\n",
       "      <td>2013-07-31</td>\n",
       "      <td>0.02</td>\n",
       "      <td>1</td>\n",
       "      <td>365</td>\n",
       "      <td>0</td>\n",
       "      <td>NaN</td>\n",
       "    </tr>\n",
       "    <tr>\n",
       "      <th>3</th>\n",
       "      <td>40470</td>\n",
       "      <td>Rental unit in Milan · ★4.67 · 2 bedrooms · 4 beds · 1 bath</td>\n",
       "      <td>174203</td>\n",
       "      <td>Giacinto</td>\n",
       "      <td>NaN</td>\n",
       "      <td>VIALE MONZA</td>\n",
       "      <td>45.52023</td>\n",
       "      <td>9.22747</td>\n",
       "      <td>Entire home/apt</td>\n",
       "      <td>80.0</td>\n",
       "      <td>3</td>\n",
       "      <td>41</td>\n",
       "      <td>2023-09-09</td>\n",
       "      <td>0.26</td>\n",
       "      <td>2</td>\n",
       "      <td>290</td>\n",
       "      <td>3</td>\n",
       "      <td>NaN</td>\n",
       "    </tr>\n",
       "    <tr>\n",
       "      <th>4</th>\n",
       "      <td>304050</td>\n",
       "      <td>Rental unit in Milan · ★4.91 · 1 bedroom · 1 bed · 1 private bath</td>\n",
       "      <td>1566887</td>\n",
       "      <td>Elena</td>\n",
       "      <td>NaN</td>\n",
       "      <td>XXII MARZO</td>\n",
       "      <td>45.45709</td>\n",
       "      <td>9.21531</td>\n",
       "      <td>Private room</td>\n",
       "      <td>49.0</td>\n",
       "      <td>2</td>\n",
       "      <td>264</td>\n",
       "      <td>2023-11-21</td>\n",
       "      <td>1.92</td>\n",
       "      <td>2</td>\n",
       "      <td>0</td>\n",
       "      <td>33</td>\n",
       "      <td>NaN</td>\n",
       "    </tr>\n",
       "  </tbody>\n",
       "</table>\n",
       "</div>"
      ],
      "text/plain": [
       "       id                                                               name  \\\n",
       "0    6400      Rental unit in Milan · ★4.89 · 3 bedrooms · 1 bed · 3.5 baths   \n",
       "1   23986          Rental unit in Milan · ★4.64 · 1 bedroom · 1 bed · 1 bath   \n",
       "2   24107               Condo in Milan · ★4.50 · 1 bedroom · 6 beds · 1 bath   \n",
       "3   40470        Rental unit in Milan · ★4.67 · 2 bedrooms · 4 beds · 1 bath   \n",
       "4  304050  Rental unit in Milan · ★4.91 · 1 bedroom · 1 bed · 1 private bath   \n",
       "\n",
       "   host_id  host_name  neighbourhood_group neighbourhood  latitude  longitude  \\\n",
       "0    13822  Francesca                  NaN       TIBALDI  45.44119    9.17813   \n",
       "1    95941     Jeremy                  NaN       NAVIGLI  45.44806    9.17373   \n",
       "2    46951    Valeria                  NaN  CITTA' STUDI  45.47179    9.23669   \n",
       "3   174203   Giacinto                  NaN   VIALE MONZA  45.52023    9.22747   \n",
       "4  1566887      Elena                  NaN    XXII MARZO  45.45709    9.21531   \n",
       "\n",
       "         room_type  price  minimum_nights  number_of_reviews last_review  \\\n",
       "0     Private room  100.0               4                 10  2019-04-13   \n",
       "1  Entire home/apt  150.0               1                 26  2023-07-29   \n",
       "2  Entire home/apt  100.0               1                  4  2013-07-31   \n",
       "3  Entire home/apt   80.0               3                 41  2023-09-09   \n",
       "4     Private room   49.0               2                264  2023-11-21   \n",
       "\n",
       "   reviews_per_month  calculated_host_listings_count  availability_365  \\\n",
       "0               0.06                               1               358   \n",
       "1               0.18                               1               359   \n",
       "2               0.02                               1               365   \n",
       "3               0.26                               2               290   \n",
       "4               1.92                               2                 0   \n",
       "\n",
       "   number_of_reviews_ltm license  \n",
       "0                      0     NaN  \n",
       "1                      4     NaN  \n",
       "2                      0     NaN  \n",
       "3                      3     NaN  \n",
       "4                     33     NaN  "
      ]
     },
     "metadata": {},
     "output_type": "display_data"
    }
   ],
   "source": [
    "display(df_reviews.head())\n",
    "display(df_listing.head())"
   ]
  },
  {
   "cell_type": "markdown",
   "metadata": {},
   "source": [
    "### Cleaning the unwanted clumns from listing"
   ]
  },
  {
   "cell_type": "code",
   "execution_count": 78,
   "metadata": {},
   "outputs": [
    {
     "name": "stdout",
     "output_type": "stream",
     "text": [
      "<class 'pandas.core.frame.DataFrame'>\n",
      "RangeIndex: 24936 entries, 0 to 24935\n",
      "Data columns (total 18 columns):\n",
      " #   Column                          Non-Null Count  Dtype  \n",
      "---  ------                          --------------  -----  \n",
      " 0   id                              24936 non-null  int64  \n",
      " 1   name                            24936 non-null  object \n",
      " 2   host_id                         24936 non-null  int64  \n",
      " 3   host_name                       24936 non-null  object \n",
      " 4   neighbourhood_group             0 non-null      float64\n",
      " 5   neighbourhood                   24936 non-null  object \n",
      " 6   latitude                        24936 non-null  float64\n",
      " 7   longitude                       24936 non-null  float64\n",
      " 8   room_type                       24936 non-null  object \n",
      " 9   price                           21023 non-null  float64\n",
      " 10  minimum_nights                  24936 non-null  int64  \n",
      " 11  number_of_reviews               24936 non-null  int64  \n",
      " 12  last_review                     19928 non-null  object \n",
      " 13  reviews_per_month               19928 non-null  float64\n",
      " 14  calculated_host_listings_count  24936 non-null  int64  \n",
      " 15  availability_365                24936 non-null  int64  \n",
      " 16  number_of_reviews_ltm           24936 non-null  int64  \n",
      " 17  license                         6948 non-null   object \n",
      "dtypes: float64(5), int64(7), object(6)\n",
      "memory usage: 3.4+ MB\n"
     ]
    }
   ],
   "source": [
    "df_listing.info()"
   ]
  },
  {
   "cell_type": "code",
   "execution_count": 79,
   "metadata": {},
   "outputs": [],
   "source": [
    "unwanted = ['license','availability_365','host_name','neighbourhood_group']\n",
    "df_listing.drop(columns=unwanted, inplace=True)"
   ]
  },
  {
   "cell_type": "markdown",
   "metadata": {},
   "source": [
    "### Keep only the listings that have at least one review in 2023"
   ]
  },
  {
   "cell_type": "code",
   "execution_count": 80,
   "metadata": {},
   "outputs": [],
   "source": [
    "df_listing['last_review'] = pd.to_datetime(df_listing['last_review'], format=r'%Y-%m-%d')"
   ]
  },
  {
   "cell_type": "code",
   "execution_count": 81,
   "metadata": {},
   "outputs": [],
   "source": [
    "year2023 = datetime(2023,1,1)\n",
    "\n",
    "df_listing = df_listing[df_listing['last_review'] > year2023]"
   ]
  },
  {
   "cell_type": "markdown",
   "metadata": {},
   "source": [
    "### Create a column with the star number"
   ]
  },
  {
   "cell_type": "code",
   "execution_count": 82,
   "metadata": {},
   "outputs": [
    {
     "data": {
      "text/html": [
       "<div>\n",
       "<style scoped>\n",
       "    .dataframe tbody tr th:only-of-type {\n",
       "        vertical-align: middle;\n",
       "    }\n",
       "\n",
       "    .dataframe tbody tr th {\n",
       "        vertical-align: top;\n",
       "    }\n",
       "\n",
       "    .dataframe thead th {\n",
       "        text-align: right;\n",
       "    }\n",
       "</style>\n",
       "<table border=\"1\" class=\"dataframe\">\n",
       "  <thead>\n",
       "    <tr style=\"text-align: right;\">\n",
       "      <th></th>\n",
       "      <th>id</th>\n",
       "      <th>name</th>\n",
       "      <th>host_id</th>\n",
       "      <th>neighbourhood</th>\n",
       "      <th>latitude</th>\n",
       "      <th>longitude</th>\n",
       "      <th>room_type</th>\n",
       "      <th>price</th>\n",
       "      <th>minimum_nights</th>\n",
       "      <th>number_of_reviews</th>\n",
       "      <th>last_review</th>\n",
       "      <th>reviews_per_month</th>\n",
       "      <th>calculated_host_listings_count</th>\n",
       "      <th>number_of_reviews_ltm</th>\n",
       "      <th>stars</th>\n",
       "    </tr>\n",
       "  </thead>\n",
       "  <tbody>\n",
       "    <tr>\n",
       "      <th>1</th>\n",
       "      <td>23986</td>\n",
       "      <td>Rental unit in Milan · ★4.64 · 1 bedroom · 1 bed · 1 bath</td>\n",
       "      <td>95941</td>\n",
       "      <td>NAVIGLI</td>\n",
       "      <td>45.44806</td>\n",
       "      <td>9.17373</td>\n",
       "      <td>Entire home/apt</td>\n",
       "      <td>150.0</td>\n",
       "      <td>1</td>\n",
       "      <td>26</td>\n",
       "      <td>2023-07-29</td>\n",
       "      <td>0.18</td>\n",
       "      <td>1</td>\n",
       "      <td>4</td>\n",
       "      <td>4.64</td>\n",
       "    </tr>\n",
       "    <tr>\n",
       "      <th>3</th>\n",
       "      <td>40470</td>\n",
       "      <td>Rental unit in Milan · ★4.67 · 2 bedrooms · 4 beds · 1 bath</td>\n",
       "      <td>174203</td>\n",
       "      <td>VIALE MONZA</td>\n",
       "      <td>45.52023</td>\n",
       "      <td>9.22747</td>\n",
       "      <td>Entire home/apt</td>\n",
       "      <td>80.0</td>\n",
       "      <td>3</td>\n",
       "      <td>41</td>\n",
       "      <td>2023-09-09</td>\n",
       "      <td>0.26</td>\n",
       "      <td>2</td>\n",
       "      <td>3</td>\n",
       "      <td>4.67</td>\n",
       "    </tr>\n",
       "    <tr>\n",
       "      <th>4</th>\n",
       "      <td>304050</td>\n",
       "      <td>Rental unit in Milan · ★4.91 · 1 bedroom · 1 bed · 1 private bath</td>\n",
       "      <td>1566887</td>\n",
       "      <td>XXII MARZO</td>\n",
       "      <td>45.45709</td>\n",
       "      <td>9.21531</td>\n",
       "      <td>Private room</td>\n",
       "      <td>49.0</td>\n",
       "      <td>2</td>\n",
       "      <td>264</td>\n",
       "      <td>2023-11-21</td>\n",
       "      <td>1.92</td>\n",
       "      <td>2</td>\n",
       "      <td>33</td>\n",
       "      <td>4.91</td>\n",
       "    </tr>\n",
       "    <tr>\n",
       "      <th>5</th>\n",
       "      <td>46536</td>\n",
       "      <td>Rental unit in Milan · ★4.53 · 2 bedrooms · 3 beds · 1 bath</td>\n",
       "      <td>138683</td>\n",
       "      <td>VIALE MONZA</td>\n",
       "      <td>45.52276</td>\n",
       "      <td>9.22478</td>\n",
       "      <td>Entire home/apt</td>\n",
       "      <td>110.0</td>\n",
       "      <td>3</td>\n",
       "      <td>35</td>\n",
       "      <td>2023-10-30</td>\n",
       "      <td>0.24</td>\n",
       "      <td>1</td>\n",
       "      <td>5</td>\n",
       "      <td>4.53</td>\n",
       "    </tr>\n",
       "    <tr>\n",
       "      <th>12</th>\n",
       "      <td>333223</td>\n",
       "      <td>Rental unit in Milano · ★5.0 · 1 bedroom · 2 beds · 1 shared bath</td>\n",
       "      <td>1697947</td>\n",
       "      <td>MAGENTA - S. VITTORE</td>\n",
       "      <td>45.46097</td>\n",
       "      <td>9.16431</td>\n",
       "      <td>Private room</td>\n",
       "      <td>150.0</td>\n",
       "      <td>1</td>\n",
       "      <td>3</td>\n",
       "      <td>2023-04-19</td>\n",
       "      <td>0.02</td>\n",
       "      <td>5</td>\n",
       "      <td>1</td>\n",
       "      <td>5.0</td>\n",
       "    </tr>\n",
       "  </tbody>\n",
       "</table>\n",
       "</div>"
      ],
      "text/plain": [
       "        id                                                               name  \\\n",
       "1    23986          Rental unit in Milan · ★4.64 · 1 bedroom · 1 bed · 1 bath   \n",
       "3    40470        Rental unit in Milan · ★4.67 · 2 bedrooms · 4 beds · 1 bath   \n",
       "4   304050  Rental unit in Milan · ★4.91 · 1 bedroom · 1 bed · 1 private bath   \n",
       "5    46536        Rental unit in Milan · ★4.53 · 2 bedrooms · 3 beds · 1 bath   \n",
       "12  333223  Rental unit in Milano · ★5.0 · 1 bedroom · 2 beds · 1 shared bath   \n",
       "\n",
       "    host_id         neighbourhood  latitude  longitude        room_type  \\\n",
       "1     95941               NAVIGLI  45.44806    9.17373  Entire home/apt   \n",
       "3    174203           VIALE MONZA  45.52023    9.22747  Entire home/apt   \n",
       "4   1566887            XXII MARZO  45.45709    9.21531     Private room   \n",
       "5    138683           VIALE MONZA  45.52276    9.22478  Entire home/apt   \n",
       "12  1697947  MAGENTA - S. VITTORE  45.46097    9.16431     Private room   \n",
       "\n",
       "    price  minimum_nights  number_of_reviews last_review  reviews_per_month  \\\n",
       "1   150.0               1                 26  2023-07-29               0.18   \n",
       "3    80.0               3                 41  2023-09-09               0.26   \n",
       "4    49.0               2                264  2023-11-21               1.92   \n",
       "5   110.0               3                 35  2023-10-30               0.24   \n",
       "12  150.0               1                  3  2023-04-19               0.02   \n",
       "\n",
       "    calculated_host_listings_count  number_of_reviews_ltm stars  \n",
       "1                                1                      4  4.64  \n",
       "3                                2                      3  4.67  \n",
       "4                                2                     33  4.91  \n",
       "5                                1                      5  4.53  \n",
       "12                               5                      1   5.0  "
      ]
     },
     "execution_count": 82,
     "metadata": {},
     "output_type": "execute_result"
    }
   ],
   "source": [
    "pattern = r'★([\\d\\.]+)'\n",
    "\n",
    "df_listing['stars'] = df_listing['name'].str.findall(pattern).str.get(0)\n",
    "df_listing.head()"
   ]
  },
  {
   "cell_type": "code",
   "execution_count": 83,
   "metadata": {},
   "outputs": [
    {
     "data": {
      "text/plain": [
       "'Rental unit in Milano · ★5.0 · 1 bedroom · 2 beds · 1 shared bath'"
      ]
     },
     "execution_count": 83,
     "metadata": {},
     "output_type": "execute_result"
    }
   ],
   "source": [
    "df_listing.iloc[4,1]"
   ]
  },
  {
   "cell_type": "code",
   "execution_count": 84,
   "metadata": {},
   "outputs": [
    {
     "data": {
      "text/plain": [
       "'Rental unit in Milan · ★4.91 · 1 bedroom · 1 bed · 1 private bath'"
      ]
     },
     "execution_count": 84,
     "metadata": {},
     "output_type": "execute_result"
    }
   ],
   "source": [
    "df_listing.iloc[2,1]"
   ]
  },
  {
   "cell_type": "code",
   "execution_count": 85,
   "metadata": {},
   "outputs": [],
   "source": [
    "# Some listing have for example 1.5 beds.\n",
    "# For now I get the 1.5.\n",
    "\n",
    "pattern_bedroom = r'([\\d\\.]*) bedr'\n",
    "\n",
    "df_listing['bedroom'] = df_listing['name'].str.findall(pattern_bedroom).str.get(0)"
   ]
  },
  {
   "cell_type": "code",
   "execution_count": 86,
   "metadata": {},
   "outputs": [],
   "source": [
    "pattern_bed = r'([\\d\\.]*) beds? '\n",
    "\n",
    "df_listing['bed'] = df_listing['name'].str.findall(pattern_bed).str.get(0)"
   ]
  },
  {
   "cell_type": "code",
   "execution_count": 87,
   "metadata": {},
   "outputs": [],
   "source": [
    "# After an iterative process I found that\n",
    "# there are only bath, private bath, and shared bath\n",
    "\n",
    "pattern_bath = r'([\\d\\.]*)[\\sprivate]*[\\sshared]* bath'\n",
    "\n",
    "df_listing['bath'] = df_listing['name'].str.findall(pattern_bath).str.get(0)"
   ]
  },
  {
   "cell_type": "markdown",
   "metadata": {},
   "source": [
    "### Adjust the order and the dtypes"
   ]
  },
  {
   "cell_type": "code",
   "execution_count": 88,
   "metadata": {},
   "outputs": [],
   "source": [
    "new_order = ['id','name','price','room_type','number_of_reviews','stars','bed',\n",
    "             'bedroom','bath','neighbourhood','latitude', 'longitude','minimum_nights',\n",
    "             'last_review','reviews_per_month','number_of_reviews_ltm',\n",
    "             'calculated_host_listings_count', 'host_id',]\n",
    "\n",
    "df_listing = df_listing[new_order]"
   ]
  },
  {
   "cell_type": "code",
   "execution_count": 89,
   "metadata": {},
   "outputs": [
    {
     "name": "stdout",
     "output_type": "stream",
     "text": [
      "<class 'pandas.core.frame.DataFrame'>\n",
      "Index: 15259 entries, 1 to 24763\n",
      "Data columns (total 18 columns):\n",
      " #   Column                          Non-Null Count  Dtype         \n",
      "---  ------                          --------------  -----         \n",
      " 0   id                              15259 non-null  int64         \n",
      " 1   name                            15259 non-null  object        \n",
      " 2   price                           14703 non-null  float64       \n",
      " 3   room_type                       15259 non-null  object        \n",
      " 4   number_of_reviews               15259 non-null  int64         \n",
      " 5   stars                           13134 non-null  object        \n",
      " 6   bed                             15070 non-null  object        \n",
      " 7   bedroom                         14343 non-null  object        \n",
      " 8   bath                            15229 non-null  object        \n",
      " 9   neighbourhood                   15259 non-null  object        \n",
      " 10  latitude                        15259 non-null  float64       \n",
      " 11  longitude                       15259 non-null  float64       \n",
      " 12  minimum_nights                  15259 non-null  int64         \n",
      " 13  last_review                     15259 non-null  datetime64[ns]\n",
      " 14  reviews_per_month               15259 non-null  float64       \n",
      " 15  number_of_reviews_ltm           15259 non-null  int64         \n",
      " 16  calculated_host_listings_count  15259 non-null  int64         \n",
      " 17  host_id                         15259 non-null  int64         \n",
      "dtypes: datetime64[ns](1), float64(4), int64(6), object(7)\n",
      "memory usage: 2.2+ MB\n"
     ]
    }
   ],
   "source": [
    "df_listing.info()"
   ]
  },
  {
   "cell_type": "code",
   "execution_count": 90,
   "metadata": {},
   "outputs": [],
   "source": [
    "col_to_convert = ['stars','price','number_of_reviews','bed','bedroom','bath',\n",
    "                  'minimum_nights','number_of_reviews_ltm','calculated_host_listings_count',\n",
    "                  'latitude','longitude','reviews_per_month']\n",
    "\n",
    "df_listing[col_to_convert] = df_listing[col_to_convert].astype('float32')"
   ]
  },
  {
   "cell_type": "markdown",
   "metadata": {},
   "source": [
    "### Handle the last null columns"
   ]
  },
  {
   "cell_type": "code",
   "execution_count": 91,
   "metadata": {},
   "outputs": [],
   "source": [
    "pd.set_option('display.max_colwidth', None)"
   ]
  },
  {
   "cell_type": "code",
   "execution_count": 92,
   "metadata": {},
   "outputs": [
    {
     "data": {
      "text/plain": [
       "False"
      ]
     },
     "execution_count": 92,
     "metadata": {},
     "output_type": "execute_result"
    }
   ],
   "source": [
    "df_listing['id'].duplicated().any()"
   ]
  },
  {
   "cell_type": "code",
   "execution_count": 93,
   "metadata": {},
   "outputs": [
    {
     "data": {
      "text/plain": [
       "128         Vacation home in Milan · 1 bedroom · 1 bed · 1 bath\n",
       "369           Rental unit in Milan · 1 bedroom · 1 bed · 1 bath\n",
       "525          Rental unit in Milan · 1 bedroom · 2 beds · 1 bath\n",
       "600          Rental unit in Milan · 1 bedroom · 2 beds · 1 bath\n",
       "612                 Home in Milano · 1 bedroom · 1 bed · 1 bath\n",
       "687     Boutique hotel in Milan · 1 bedroom · 1 bed · 1.5 baths\n",
       "899             Condo in Milano · 3 bedrooms · 3 beds · 2 baths\n",
       "980         Rental unit in Milano · 1 bedroom · 2 beds · 1 bath\n",
       "1016              Home in Milano · 2 bedrooms · 4 beds · 1 bath\n",
       "1068              Condo in Milano · 1 bedroom · 2 beds · 1 bath\n",
       "Name: name, dtype: object"
      ]
     },
     "execution_count": 93,
     "metadata": {},
     "output_type": "execute_result"
    }
   ],
   "source": [
    "# Some listings don't have stars, for now I keep the null values\n",
    "\n",
    "df_listing.loc[df_listing['stars'].isna(), 'name'][:10]"
   ]
  },
  {
   "cell_type": "code",
   "execution_count": 94,
   "metadata": {},
   "outputs": [
    {
     "data": {
      "text/plain": [
       "17             Rental unit in Milan · ★4.85 · 1 bedroom · 1 bath\n",
       "211                   Loft in Milan · ★4.56 · 1 bedroom · 1 bath\n",
       "707             Rental unit in Milan · ★5.0 · 1 bedroom · 1 bath\n",
       "793                  Loft in Milano · ★4.54 · 1 bedroom · 1 bath\n",
       "1079          Rental unit in Milano · ★4.94 · 1 bedroom · 1 bath\n",
       "1150           Rental unit in Milan · ★4.77 · 1 bedroom · 1 bath\n",
       "1455           Rental unit in Milan · ★4.77 · 1 bedroom · 1 bath\n",
       "1851    Guesthouse in Milano · ★4.87 · 1 bedroom · 1 shared bath\n",
       "2268          Rental unit in Milano · ★4.98 · 1 bedroom · 1 bath\n",
       "2407           Guest suite in Milan · ★4.94 · 1 bedroom · 1 bath\n",
       "Name: name, dtype: object"
      ]
     },
     "execution_count": 94,
     "metadata": {},
     "output_type": "execute_result"
    }
   ],
   "source": [
    "df_listing.loc[df_listing['bed'].isna(), 'name'][:10]"
   ]
  },
  {
   "cell_type": "code",
   "execution_count": 95,
   "metadata": {},
   "outputs": [],
   "source": [
    "# It's really strange a home with a bedroom but with no beds.\n",
    "# Since there are few rows with this problem, I just drop them.\n",
    "\n",
    "df_listing.dropna(subset=['bed'], inplace=True)"
   ]
  },
  {
   "cell_type": "code",
   "execution_count": 96,
   "metadata": {},
   "outputs": [
    {
     "data": {
      "text/plain": [
       "22            Rental unit in Milan · ★4.54 · Studio · 1 bed · 1 bath\n",
       "49                 Condo in Milan · ★4.74 · Studio · 2 beds · 1 bath\n",
       "106    Serviced apartment in Milan · ★5.0 · Studio · 1 bed · 0 baths\n",
       "218           Rental unit in Milan · ★4.80 · Studio · 1 bed · 1 bath\n",
       "259          Rental unit in Milan · ★4.77 · Studio · 2 beds · 1 bath\n",
       "377           Rental unit in Milan · ★4.79 · Studio · 1 bed · 1 bath\n",
       "397          Rental unit in Milano · ★4.90 · Studio · 1 bed · 1 bath\n",
       "443          Rental unit in Milano · ★4.94 · Studio · 1 bed · 1 bath\n",
       "458         Rental unit in Milano · ★4.89 · Studio · 2 beds · 1 bath\n",
       "473          Rental unit in Milan · ★4.75 · Studio · 2 beds · 1 bath\n",
       "Name: name, dtype: object"
      ]
     },
     "execution_count": 96,
     "metadata": {},
     "output_type": "execute_result"
    }
   ],
   "source": [
    "# It makes sense that some homes don't have a bedroom.\n",
    "# I fill the na values with 0.\n",
    "\n",
    "df_listing.loc[df_listing['bedroom'].isna(), 'name'][:10]"
   ]
  },
  {
   "cell_type": "code",
   "execution_count": 97,
   "metadata": {},
   "outputs": [],
   "source": [
    "df_listing['bedroom'] = df_listing['bedroom'].fillna(0)"
   ]
  },
  {
   "cell_type": "code",
   "execution_count": 98,
   "metadata": {},
   "outputs": [
    {
     "name": "stdout",
     "output_type": "stream",
     "text": [
      "Non whole rows for bath: 547\n",
      "Non whole rows for bed: 0\n",
      "Non whole rows for bedroom: 0\n"
     ]
    }
   ],
   "source": [
    "# I handle the strange listings with, for example, 1.5 beds\n",
    "\n",
    "def is_not_whole(n):\n",
    "\n",
    "    '''This function will return a boolean,\n",
    "    depending on whether n is a whole number.'''\n",
    "\n",
    "    return n % 1 != 0\n",
    "\n",
    "for i in ['bath','bed','bedroom']:\n",
    "    print(f'Non whole rows for {i}:', df_listing[i].apply(is_not_whole).sum())"
   ]
  },
  {
   "cell_type": "code",
   "execution_count": 99,
   "metadata": {},
   "outputs": [],
   "source": [
    "# I round the number to the lower whole number\n",
    "\n",
    "df_listing['bath'] = np.floor(df_listing['bath'])"
   ]
  },
  {
   "cell_type": "code",
   "execution_count": 100,
   "metadata": {},
   "outputs": [
    {
     "name": "stdout",
     "output_type": "stream",
     "text": [
      "<class 'pandas.core.frame.DataFrame'>\n",
      "Index: 14502 entries, 1 to 24763\n",
      "Data columns (total 18 columns):\n",
      " #   Column                          Non-Null Count  Dtype         \n",
      "---  ------                          --------------  -----         \n",
      " 0   id                              14502 non-null  int64         \n",
      " 1   name                            14502 non-null  object        \n",
      " 2   price                           14502 non-null  float32       \n",
      " 3   room_type                       14502 non-null  object        \n",
      " 4   number_of_reviews               14502 non-null  float32       \n",
      " 5   stars                           12525 non-null  float32       \n",
      " 6   bed                             14502 non-null  float32       \n",
      " 7   bedroom                         14502 non-null  float32       \n",
      " 8   bath                            14502 non-null  float32       \n",
      " 9   neighbourhood                   14502 non-null  object        \n",
      " 10  latitude                        14502 non-null  float32       \n",
      " 11  longitude                       14502 non-null  float32       \n",
      " 12  minimum_nights                  14502 non-null  float32       \n",
      " 13  last_review                     14502 non-null  datetime64[ns]\n",
      " 14  reviews_per_month               14502 non-null  float32       \n",
      " 15  number_of_reviews_ltm           14502 non-null  float32       \n",
      " 16  calculated_host_listings_count  14502 non-null  float32       \n",
      " 17  host_id                         14502 non-null  int64         \n",
      "dtypes: datetime64[ns](1), float32(12), int64(2), object(3)\n",
      "memory usage: 1.4+ MB\n"
     ]
    }
   ],
   "source": [
    "# Drop the null value for price and bath\n",
    "\n",
    "df_listing.dropna(subset=['price','bath'], inplace=True)\n",
    "\n",
    "df_listing.info()"
   ]
  },
  {
   "cell_type": "markdown",
   "metadata": {},
   "source": [
    "### Add 'days_first_r' col "
   ]
  },
  {
   "cell_type": "code",
   "execution_count": 101,
   "metadata": {},
   "outputs": [
    {
     "data": {
      "text/html": [
       "<div>\n",
       "<style scoped>\n",
       "    .dataframe tbody tr th:only-of-type {\n",
       "        vertical-align: middle;\n",
       "    }\n",
       "\n",
       "    .dataframe tbody tr th {\n",
       "        vertical-align: top;\n",
       "    }\n",
       "\n",
       "    .dataframe thead th {\n",
       "        text-align: right;\n",
       "    }\n",
       "</style>\n",
       "<table border=\"1\" class=\"dataframe\">\n",
       "  <thead>\n",
       "    <tr style=\"text-align: right;\">\n",
       "      <th></th>\n",
       "      <th>listing_id</th>\n",
       "      <th>date</th>\n",
       "    </tr>\n",
       "  </thead>\n",
       "  <tbody>\n",
       "    <tr>\n",
       "      <th>0</th>\n",
       "      <td>6400</td>\n",
       "      <td>2010-04-19</td>\n",
       "    </tr>\n",
       "    <tr>\n",
       "      <th>1</th>\n",
       "      <td>6400</td>\n",
       "      <td>2011-04-16</td>\n",
       "    </tr>\n",
       "    <tr>\n",
       "      <th>2</th>\n",
       "      <td>6400</td>\n",
       "      <td>2012-04-22</td>\n",
       "    </tr>\n",
       "    <tr>\n",
       "      <th>3</th>\n",
       "      <td>6400</td>\n",
       "      <td>2014-04-11</td>\n",
       "    </tr>\n",
       "    <tr>\n",
       "      <th>4</th>\n",
       "      <td>6400</td>\n",
       "      <td>2014-04-14</td>\n",
       "    </tr>\n",
       "  </tbody>\n",
       "</table>\n",
       "</div>"
      ],
      "text/plain": [
       "   listing_id        date\n",
       "0        6400  2010-04-19\n",
       "1        6400  2011-04-16\n",
       "2        6400  2012-04-22\n",
       "3        6400  2014-04-11\n",
       "4        6400  2014-04-14"
      ]
     },
     "execution_count": 101,
     "metadata": {},
     "output_type": "execute_result"
    }
   ],
   "source": [
    "df_reviews.head()"
   ]
  },
  {
   "cell_type": "code",
   "execution_count": 102,
   "metadata": {},
   "outputs": [
    {
     "name": "stdout",
     "output_type": "stream",
     "text": [
      "<class 'pandas.core.frame.DataFrame'>\n",
      "RangeIndex: 775874 entries, 0 to 775873\n",
      "Data columns (total 2 columns):\n",
      " #   Column      Non-Null Count   Dtype         \n",
      "---  ------      --------------   -----         \n",
      " 0   listing_id  775874 non-null  int64         \n",
      " 1   date        775874 non-null  datetime64[ns]\n",
      "dtypes: datetime64[ns](1), int64(1)\n",
      "memory usage: 11.8 MB\n"
     ]
    }
   ],
   "source": [
    "df_reviews['date'] = pd.to_datetime(df_reviews['date'],\n",
    "                                    format='%Y-%m-%d')\n",
    "df_reviews.info()"
   ]
  },
  {
   "cell_type": "code",
   "execution_count": 103,
   "metadata": {},
   "outputs": [
    {
     "data": {
      "text/html": [
       "<div>\n",
       "<style scoped>\n",
       "    .dataframe tbody tr th:only-of-type {\n",
       "        vertical-align: middle;\n",
       "    }\n",
       "\n",
       "    .dataframe tbody tr th {\n",
       "        vertical-align: top;\n",
       "    }\n",
       "\n",
       "    .dataframe thead th {\n",
       "        text-align: right;\n",
       "    }\n",
       "</style>\n",
       "<table border=\"1\" class=\"dataframe\">\n",
       "  <thead>\n",
       "    <tr style=\"text-align: right;\">\n",
       "      <th></th>\n",
       "      <th>listing_id</th>\n",
       "      <th>date</th>\n",
       "    </tr>\n",
       "  </thead>\n",
       "  <tbody>\n",
       "    <tr>\n",
       "      <th>0</th>\n",
       "      <td>6400</td>\n",
       "      <td>2010-04-19</td>\n",
       "    </tr>\n",
       "    <tr>\n",
       "      <th>1</th>\n",
       "      <td>23986</td>\n",
       "      <td>2012-04-24</td>\n",
       "    </tr>\n",
       "    <tr>\n",
       "      <th>2</th>\n",
       "      <td>24107</td>\n",
       "      <td>2010-04-11</td>\n",
       "    </tr>\n",
       "    <tr>\n",
       "      <th>3</th>\n",
       "      <td>40470</td>\n",
       "      <td>2010-12-20</td>\n",
       "    </tr>\n",
       "    <tr>\n",
       "      <th>4</th>\n",
       "      <td>46536</td>\n",
       "      <td>2011-12-05</td>\n",
       "    </tr>\n",
       "  </tbody>\n",
       "</table>\n",
       "</div>"
      ],
      "text/plain": [
       "   listing_id       date\n",
       "0        6400 2010-04-19\n",
       "1       23986 2012-04-24\n",
       "2       24107 2010-04-11\n",
       "3       40470 2010-12-20\n",
       "4       46536 2011-12-05"
      ]
     },
     "execution_count": 103,
     "metadata": {},
     "output_type": "execute_result"
    }
   ],
   "source": [
    "first_revies = df_reviews.groupby('listing_id')['date'].min().to_frame().reset_index()\n",
    "first_revies.head()"
   ]
  },
  {
   "cell_type": "code",
   "execution_count": 104,
   "metadata": {},
   "outputs": [
    {
     "data": {
      "text/html": [
       "<div>\n",
       "<style scoped>\n",
       "    .dataframe tbody tr th:only-of-type {\n",
       "        vertical-align: middle;\n",
       "    }\n",
       "\n",
       "    .dataframe tbody tr th {\n",
       "        vertical-align: top;\n",
       "    }\n",
       "\n",
       "    .dataframe thead th {\n",
       "        text-align: right;\n",
       "    }\n",
       "</style>\n",
       "<table border=\"1\" class=\"dataframe\">\n",
       "  <thead>\n",
       "    <tr style=\"text-align: right;\">\n",
       "      <th></th>\n",
       "      <th>id</th>\n",
       "      <th>name</th>\n",
       "      <th>price</th>\n",
       "      <th>room_type</th>\n",
       "      <th>number_of_reviews</th>\n",
       "      <th>stars</th>\n",
       "      <th>bed</th>\n",
       "      <th>bedroom</th>\n",
       "      <th>bath</th>\n",
       "      <th>neighbourhood</th>\n",
       "      <th>latitude</th>\n",
       "      <th>longitude</th>\n",
       "      <th>minimum_nights</th>\n",
       "      <th>last_review</th>\n",
       "      <th>reviews_per_month</th>\n",
       "      <th>number_of_reviews_ltm</th>\n",
       "      <th>calculated_host_listings_count</th>\n",
       "      <th>host_id</th>\n",
       "      <th>date</th>\n",
       "    </tr>\n",
       "  </thead>\n",
       "  <tbody>\n",
       "    <tr>\n",
       "      <th>0</th>\n",
       "      <td>23986</td>\n",
       "      <td>Rental unit in Milan · ★4.64 · 1 bedroom · 1 bed · 1 bath</td>\n",
       "      <td>150.0</td>\n",
       "      <td>Entire home/apt</td>\n",
       "      <td>26.0</td>\n",
       "      <td>4.64</td>\n",
       "      <td>1.0</td>\n",
       "      <td>1.0</td>\n",
       "      <td>1.0</td>\n",
       "      <td>NAVIGLI</td>\n",
       "      <td>45.448059</td>\n",
       "      <td>9.17373</td>\n",
       "      <td>1.0</td>\n",
       "      <td>2023-07-29</td>\n",
       "      <td>0.18</td>\n",
       "      <td>4.0</td>\n",
       "      <td>1.0</td>\n",
       "      <td>95941</td>\n",
       "      <td>2012-04-24</td>\n",
       "    </tr>\n",
       "    <tr>\n",
       "      <th>1</th>\n",
       "      <td>40470</td>\n",
       "      <td>Rental unit in Milan · ★4.67 · 2 bedrooms · 4 beds · 1 bath</td>\n",
       "      <td>80.0</td>\n",
       "      <td>Entire home/apt</td>\n",
       "      <td>41.0</td>\n",
       "      <td>4.67</td>\n",
       "      <td>4.0</td>\n",
       "      <td>2.0</td>\n",
       "      <td>1.0</td>\n",
       "      <td>VIALE MONZA</td>\n",
       "      <td>45.520229</td>\n",
       "      <td>9.22747</td>\n",
       "      <td>3.0</td>\n",
       "      <td>2023-09-09</td>\n",
       "      <td>0.26</td>\n",
       "      <td>3.0</td>\n",
       "      <td>2.0</td>\n",
       "      <td>174203</td>\n",
       "      <td>2010-12-20</td>\n",
       "    </tr>\n",
       "  </tbody>\n",
       "</table>\n",
       "</div>"
      ],
      "text/plain": [
       "      id                                                         name  price  \\\n",
       "0  23986    Rental unit in Milan · ★4.64 · 1 bedroom · 1 bed · 1 bath  150.0   \n",
       "1  40470  Rental unit in Milan · ★4.67 · 2 bedrooms · 4 beds · 1 bath   80.0   \n",
       "\n",
       "         room_type  number_of_reviews  stars  bed  bedroom  bath  \\\n",
       "0  Entire home/apt               26.0   4.64  1.0      1.0   1.0   \n",
       "1  Entire home/apt               41.0   4.67  4.0      2.0   1.0   \n",
       "\n",
       "  neighbourhood   latitude  longitude  minimum_nights last_review  \\\n",
       "0       NAVIGLI  45.448059    9.17373             1.0  2023-07-29   \n",
       "1   VIALE MONZA  45.520229    9.22747             3.0  2023-09-09   \n",
       "\n",
       "   reviews_per_month  number_of_reviews_ltm  calculated_host_listings_count  \\\n",
       "0               0.18                    4.0                             1.0   \n",
       "1               0.26                    3.0                             2.0   \n",
       "\n",
       "   host_id       date  \n",
       "0    95941 2012-04-24  \n",
       "1   174203 2010-12-20  "
      ]
     },
     "execution_count": 104,
     "metadata": {},
     "output_type": "execute_result"
    }
   ],
   "source": [
    "df_listing = pd.merge(df_listing, first_revies,\n",
    "                        left_on='id', right_on='listing_id', how='left')\n",
    "df_listing.drop(columns='listing_id', inplace=True)\n",
    "df_listing.head(2)"
   ]
  },
  {
   "cell_type": "code",
   "execution_count": 106,
   "metadata": {},
   "outputs": [
    {
     "data": {
      "text/html": [
       "<div>\n",
       "<style scoped>\n",
       "    .dataframe tbody tr th:only-of-type {\n",
       "        vertical-align: middle;\n",
       "    }\n",
       "\n",
       "    .dataframe tbody tr th {\n",
       "        vertical-align: top;\n",
       "    }\n",
       "\n",
       "    .dataframe thead th {\n",
       "        text-align: right;\n",
       "    }\n",
       "</style>\n",
       "<table border=\"1\" class=\"dataframe\">\n",
       "  <thead>\n",
       "    <tr style=\"text-align: right;\">\n",
       "      <th></th>\n",
       "      <th>id</th>\n",
       "      <th>name</th>\n",
       "      <th>price</th>\n",
       "      <th>room_type</th>\n",
       "      <th>number_of_reviews</th>\n",
       "      <th>stars</th>\n",
       "      <th>bed</th>\n",
       "      <th>bedroom</th>\n",
       "      <th>bath</th>\n",
       "      <th>neighbourhood</th>\n",
       "      <th>latitude</th>\n",
       "      <th>longitude</th>\n",
       "      <th>minimum_nights</th>\n",
       "      <th>last_review</th>\n",
       "      <th>reviews_per_month</th>\n",
       "      <th>number_of_reviews_ltm</th>\n",
       "      <th>calculated_host_listings_count</th>\n",
       "      <th>host_id</th>\n",
       "      <th>date</th>\n",
       "      <th>days_online</th>\n",
       "    </tr>\n",
       "  </thead>\n",
       "  <tbody>\n",
       "    <tr>\n",
       "      <th>0</th>\n",
       "      <td>23986</td>\n",
       "      <td>Rental unit in Milan · ★4.64 · 1 bedroom · 1 bed · 1 bath</td>\n",
       "      <td>150.0</td>\n",
       "      <td>Entire home/apt</td>\n",
       "      <td>26.0</td>\n",
       "      <td>4.64</td>\n",
       "      <td>1.0</td>\n",
       "      <td>1.0</td>\n",
       "      <td>1.0</td>\n",
       "      <td>NAVIGLI</td>\n",
       "      <td>45.448059</td>\n",
       "      <td>9.17373</td>\n",
       "      <td>1.0</td>\n",
       "      <td>2023-07-29</td>\n",
       "      <td>0.18</td>\n",
       "      <td>4.0</td>\n",
       "      <td>1.0</td>\n",
       "      <td>95941</td>\n",
       "      <td>2012-04-24</td>\n",
       "      <td>4261 days</td>\n",
       "    </tr>\n",
       "    <tr>\n",
       "      <th>1</th>\n",
       "      <td>40470</td>\n",
       "      <td>Rental unit in Milan · ★4.67 · 2 bedrooms · 4 beds · 1 bath</td>\n",
       "      <td>80.0</td>\n",
       "      <td>Entire home/apt</td>\n",
       "      <td>41.0</td>\n",
       "      <td>4.67</td>\n",
       "      <td>4.0</td>\n",
       "      <td>2.0</td>\n",
       "      <td>1.0</td>\n",
       "      <td>VIALE MONZA</td>\n",
       "      <td>45.520229</td>\n",
       "      <td>9.22747</td>\n",
       "      <td>3.0</td>\n",
       "      <td>2023-09-09</td>\n",
       "      <td>0.26</td>\n",
       "      <td>3.0</td>\n",
       "      <td>2.0</td>\n",
       "      <td>174203</td>\n",
       "      <td>2010-12-20</td>\n",
       "      <td>4752 days</td>\n",
       "    </tr>\n",
       "  </tbody>\n",
       "</table>\n",
       "</div>"
      ],
      "text/plain": [
       "      id                                                         name  price  \\\n",
       "0  23986    Rental unit in Milan · ★4.64 · 1 bedroom · 1 bed · 1 bath  150.0   \n",
       "1  40470  Rental unit in Milan · ★4.67 · 2 bedrooms · 4 beds · 1 bath   80.0   \n",
       "\n",
       "         room_type  number_of_reviews  stars  bed  bedroom  bath  \\\n",
       "0  Entire home/apt               26.0   4.64  1.0      1.0   1.0   \n",
       "1  Entire home/apt               41.0   4.67  4.0      2.0   1.0   \n",
       "\n",
       "  neighbourhood   latitude  longitude  minimum_nights last_review  \\\n",
       "0       NAVIGLI  45.448059    9.17373             1.0  2023-07-29   \n",
       "1   VIALE MONZA  45.520229    9.22747             3.0  2023-09-09   \n",
       "\n",
       "   reviews_per_month  number_of_reviews_ltm  calculated_host_listings_count  \\\n",
       "0               0.18                    4.0                             1.0   \n",
       "1               0.26                    3.0                             2.0   \n",
       "\n",
       "   host_id       date days_online  \n",
       "0    95941 2012-04-24   4261 days  \n",
       "1   174203 2010-12-20   4752 days  "
      ]
     },
     "execution_count": 106,
     "metadata": {},
     "output_type": "execute_result"
    }
   ],
   "source": [
    "df_listing['days_online'] = df_listing['last_review'].max() - df_listing['date']\n",
    "\n",
    "df_listing.head(2)"
   ]
  },
  {
   "cell_type": "code",
   "execution_count": 112,
   "metadata": {},
   "outputs": [],
   "source": [
    "df_listing['days_online'] = df_listing['days_online'].dt.days.astype(float)"
   ]
  },
  {
   "cell_type": "code",
   "execution_count": 114,
   "metadata": {},
   "outputs": [
    {
     "name": "stdout",
     "output_type": "stream",
     "text": [
      "<class 'pandas.core.frame.DataFrame'>\n",
      "RangeIndex: 14502 entries, 0 to 14501\n",
      "Data columns (total 19 columns):\n",
      " #   Column                          Non-Null Count  Dtype         \n",
      "---  ------                          --------------  -----         \n",
      " 0   id                              14502 non-null  int64         \n",
      " 1   name                            14502 non-null  object        \n",
      " 2   price                           14502 non-null  float32       \n",
      " 3   room_type                       14502 non-null  object        \n",
      " 4   number_of_reviews               14502 non-null  float32       \n",
      " 5   stars                           12525 non-null  float32       \n",
      " 6   bed                             14502 non-null  float32       \n",
      " 7   bedroom                         14502 non-null  float32       \n",
      " 8   bath                            14502 non-null  float32       \n",
      " 9   neighbourhood                   14502 non-null  object        \n",
      " 10  latitude                        14502 non-null  float32       \n",
      " 11  longitude                       14502 non-null  float32       \n",
      " 12  minimum_nights                  14502 non-null  float32       \n",
      " 13  last_review                     14502 non-null  datetime64[ns]\n",
      " 14  reviews_per_month               14502 non-null  float32       \n",
      " 15  number_of_reviews_ltm           14502 non-null  float32       \n",
      " 16  calculated_host_listings_count  14502 non-null  float32       \n",
      " 17  host_id                         14502 non-null  int64         \n",
      " 18  days_online                     14502 non-null  float64       \n",
      "dtypes: datetime64[ns](1), float32(12), float64(1), int64(2), object(3)\n",
      "memory usage: 1.4+ MB\n"
     ]
    }
   ],
   "source": [
    "df_listing.drop(columns='date', inplace=True)\n",
    "\n",
    "df_listing.info()"
   ]
  },
  {
   "cell_type": "markdown",
   "metadata": {},
   "source": [
    "### Convert the cleaned dataset to CSV"
   ]
  },
  {
   "cell_type": "code",
   "execution_count": 115,
   "metadata": {},
   "outputs": [],
   "source": [
    "df_listing.to_csv(r'C:\\Users\\matte\\OneDrive\\Desktop\\GitHub\\data\\Airbnb\\listings_cleaned.csv',\n",
    "                  index=False)"
   ]
  }
 ],
 "metadata": {
  "kernelspec": {
   "display_name": "base",
   "language": "python",
   "name": "python3"
  },
  "language_info": {
   "codemirror_mode": {
    "name": "ipython",
    "version": 3
   },
   "file_extension": ".py",
   "mimetype": "text/x-python",
   "name": "python",
   "nbconvert_exporter": "python",
   "pygments_lexer": "ipython3",
   "version": "3.11.5"
  }
 },
 "nbformat": 4,
 "nbformat_minor": 2
}
