{
 "cells": [
  {
   "cell_type": "markdown",
   "metadata": {},
   "source": [
    "[Data Visualization on Tableau](https://public.tableau.com/views/AirBnBinMilan_17060112236490/Story1?:language=en-US&publish=yes&:display_count=n&:origin=viz_share_link)"
   ]
  },
  {
   "cell_type": "markdown",
   "metadata": {},
   "source": [
    "## Import Basic Libraries"
   ]
  },
  {
   "cell_type": "code",
   "execution_count": 1,
   "metadata": {},
   "outputs": [],
   "source": [
    "import pandas as pd\n",
    "import numpy as np\n",
    "import matplotlib.pyplot as plt\n",
    "import seaborn as sns\n",
    "import seaborn as sns; sns.set()"
   ]
  },
  {
   "cell_type": "code",
   "execution_count": 2,
   "metadata": {},
   "outputs": [
    {
     "data": {
      "text/html": [
       "<div>\n",
       "<style scoped>\n",
       "    .dataframe tbody tr th:only-of-type {\n",
       "        vertical-align: middle;\n",
       "    }\n",
       "\n",
       "    .dataframe tbody tr th {\n",
       "        vertical-align: top;\n",
       "    }\n",
       "\n",
       "    .dataframe thead th {\n",
       "        text-align: right;\n",
       "    }\n",
       "</style>\n",
       "<table border=\"1\" class=\"dataframe\">\n",
       "  <thead>\n",
       "    <tr style=\"text-align: right;\">\n",
       "      <th></th>\n",
       "      <th>id</th>\n",
       "      <th>name</th>\n",
       "      <th>price</th>\n",
       "      <th>room_type</th>\n",
       "      <th>number_of_reviews</th>\n",
       "      <th>stars</th>\n",
       "      <th>bed</th>\n",
       "      <th>bedroom</th>\n",
       "      <th>bath</th>\n",
       "      <th>neighbourhood</th>\n",
       "      <th>latitude</th>\n",
       "      <th>longitude</th>\n",
       "      <th>minimum_nights</th>\n",
       "      <th>last_review</th>\n",
       "      <th>reviews_per_month</th>\n",
       "      <th>number_of_reviews_ltm</th>\n",
       "      <th>calculated_host_listings_count</th>\n",
       "      <th>host_id</th>\n",
       "      <th>days_online</th>\n",
       "    </tr>\n",
       "  </thead>\n",
       "  <tbody>\n",
       "    <tr>\n",
       "      <th>0</th>\n",
       "      <td>23986</td>\n",
       "      <td>Rental unit in Milan · ★4.64 · 1 bedroom · 1 b...</td>\n",
       "      <td>150.0</td>\n",
       "      <td>Entire home/apt</td>\n",
       "      <td>26.0</td>\n",
       "      <td>4.64</td>\n",
       "      <td>1.0</td>\n",
       "      <td>1.0</td>\n",
       "      <td>1.0</td>\n",
       "      <td>NAVIGLI</td>\n",
       "      <td>45.44806</td>\n",
       "      <td>9.17373</td>\n",
       "      <td>1.0</td>\n",
       "      <td>2023-07-29</td>\n",
       "      <td>0.18</td>\n",
       "      <td>4.0</td>\n",
       "      <td>1.0</td>\n",
       "      <td>95941</td>\n",
       "      <td>4261.0</td>\n",
       "    </tr>\n",
       "    <tr>\n",
       "      <th>1</th>\n",
       "      <td>40470</td>\n",
       "      <td>Rental unit in Milan · ★4.67 · 2 bedrooms · 4 ...</td>\n",
       "      <td>80.0</td>\n",
       "      <td>Entire home/apt</td>\n",
       "      <td>41.0</td>\n",
       "      <td>4.67</td>\n",
       "      <td>4.0</td>\n",
       "      <td>2.0</td>\n",
       "      <td>1.0</td>\n",
       "      <td>VIALE MONZA</td>\n",
       "      <td>45.52023</td>\n",
       "      <td>9.22747</td>\n",
       "      <td>3.0</td>\n",
       "      <td>2023-09-09</td>\n",
       "      <td>0.26</td>\n",
       "      <td>3.0</td>\n",
       "      <td>2.0</td>\n",
       "      <td>174203</td>\n",
       "      <td>4752.0</td>\n",
       "    </tr>\n",
       "    <tr>\n",
       "      <th>2</th>\n",
       "      <td>304050</td>\n",
       "      <td>Rental unit in Milan · ★4.91 · 1 bedroom · 1 b...</td>\n",
       "      <td>49.0</td>\n",
       "      <td>Private room</td>\n",
       "      <td>264.0</td>\n",
       "      <td>4.91</td>\n",
       "      <td>1.0</td>\n",
       "      <td>1.0</td>\n",
       "      <td>1.0</td>\n",
       "      <td>XXII MARZO</td>\n",
       "      <td>45.45709</td>\n",
       "      <td>9.21531</td>\n",
       "      <td>2.0</td>\n",
       "      <td>2023-11-21</td>\n",
       "      <td>1.92</td>\n",
       "      <td>33.0</td>\n",
       "      <td>2.0</td>\n",
       "      <td>1566887</td>\n",
       "      <td>4124.0</td>\n",
       "    </tr>\n",
       "    <tr>\n",
       "      <th>3</th>\n",
       "      <td>46536</td>\n",
       "      <td>Rental unit in Milan · ★4.53 · 2 bedrooms · 3 ...</td>\n",
       "      <td>110.0</td>\n",
       "      <td>Entire home/apt</td>\n",
       "      <td>35.0</td>\n",
       "      <td>4.53</td>\n",
       "      <td>3.0</td>\n",
       "      <td>2.0</td>\n",
       "      <td>1.0</td>\n",
       "      <td>VIALE MONZA</td>\n",
       "      <td>45.52276</td>\n",
       "      <td>9.22478</td>\n",
       "      <td>3.0</td>\n",
       "      <td>2023-10-30</td>\n",
       "      <td>0.24</td>\n",
       "      <td>5.0</td>\n",
       "      <td>1.0</td>\n",
       "      <td>138683</td>\n",
       "      <td>4402.0</td>\n",
       "    </tr>\n",
       "    <tr>\n",
       "      <th>4</th>\n",
       "      <td>333223</td>\n",
       "      <td>Rental unit in Milano · ★5.0 · 1 bedroom · 2 b...</td>\n",
       "      <td>150.0</td>\n",
       "      <td>Private room</td>\n",
       "      <td>3.0</td>\n",
       "      <td>5.00</td>\n",
       "      <td>2.0</td>\n",
       "      <td>1.0</td>\n",
       "      <td>1.0</td>\n",
       "      <td>MAGENTA - S. VITTORE</td>\n",
       "      <td>45.46097</td>\n",
       "      <td>9.16431</td>\n",
       "      <td>1.0</td>\n",
       "      <td>2023-04-19</td>\n",
       "      <td>0.02</td>\n",
       "      <td>1.0</td>\n",
       "      <td>5.0</td>\n",
       "      <td>1697947</td>\n",
       "      <td>4260.0</td>\n",
       "    </tr>\n",
       "  </tbody>\n",
       "</table>\n",
       "</div>"
      ],
      "text/plain": [
       "       id                                               name  price  \\\n",
       "0   23986  Rental unit in Milan · ★4.64 · 1 bedroom · 1 b...  150.0   \n",
       "1   40470  Rental unit in Milan · ★4.67 · 2 bedrooms · 4 ...   80.0   \n",
       "2  304050  Rental unit in Milan · ★4.91 · 1 bedroom · 1 b...   49.0   \n",
       "3   46536  Rental unit in Milan · ★4.53 · 2 bedrooms · 3 ...  110.0   \n",
       "4  333223  Rental unit in Milano · ★5.0 · 1 bedroom · 2 b...  150.0   \n",
       "\n",
       "         room_type  number_of_reviews  stars  bed  bedroom  bath  \\\n",
       "0  Entire home/apt               26.0   4.64  1.0      1.0   1.0   \n",
       "1  Entire home/apt               41.0   4.67  4.0      2.0   1.0   \n",
       "2     Private room              264.0   4.91  1.0      1.0   1.0   \n",
       "3  Entire home/apt               35.0   4.53  3.0      2.0   1.0   \n",
       "4     Private room                3.0   5.00  2.0      1.0   1.0   \n",
       "\n",
       "          neighbourhood  latitude  longitude  minimum_nights last_review  \\\n",
       "0               NAVIGLI  45.44806    9.17373             1.0  2023-07-29   \n",
       "1           VIALE MONZA  45.52023    9.22747             3.0  2023-09-09   \n",
       "2            XXII MARZO  45.45709    9.21531             2.0  2023-11-21   \n",
       "3           VIALE MONZA  45.52276    9.22478             3.0  2023-10-30   \n",
       "4  MAGENTA - S. VITTORE  45.46097    9.16431             1.0  2023-04-19   \n",
       "\n",
       "   reviews_per_month  number_of_reviews_ltm  calculated_host_listings_count  \\\n",
       "0               0.18                    4.0                             1.0   \n",
       "1               0.26                    3.0                             2.0   \n",
       "2               1.92                   33.0                             2.0   \n",
       "3               0.24                    5.0                             1.0   \n",
       "4               0.02                    1.0                             5.0   \n",
       "\n",
       "   host_id  days_online  \n",
       "0    95941       4261.0  \n",
       "1   174203       4752.0  \n",
       "2  1566887       4124.0  \n",
       "3   138683       4402.0  \n",
       "4  1697947       4260.0  "
      ]
     },
     "execution_count": 2,
     "metadata": {},
     "output_type": "execute_result"
    }
   ],
   "source": [
    "df = pd.read_csv(r'C:\\Users\\matte\\OneDrive\\Desktop\\GitHub\\data\\Airbnb\\listings_cleaned.csv')\n",
    "df.head()"
   ]
  },
  {
   "cell_type": "markdown",
   "metadata": {},
   "source": [
    "## Data Cleaning: Handling Outliers"
   ]
  },
  {
   "cell_type": "markdown",
   "metadata": {},
   "source": [
    "### Reviews Number"
   ]
  },
  {
   "cell_type": "code",
   "execution_count": 3,
   "metadata": {},
   "outputs": [
    {
     "data": {
      "image/png": "[encoded data removed]",
      "text/plain": [
       "<Figure size 640x480 with 1 Axes>"
      ]
     },
     "metadata": {},
     "output_type": "display_data"
    }
   ],
   "source": [
    "df['number_of_reviews'].plot.hist();"
   ]
  },
  {
   "cell_type": "code",
   "execution_count": 4,
   "metadata": {},
   "outputs": [
    {
     "name": "stdout",
     "output_type": "stream",
     "text": [
      "Low-Band Outlier: -59.5\n",
      "High-Band Outlier: 112.5\n",
      "------\n",
      "Low-Band Extreme Outlier: -124.0\n",
      "High-Band Extreme Outlier: 177.0\n"
     ]
    }
   ],
   "source": [
    "def outliers(x):\n",
    "    q1 = np.percentile(x, 25)\n",
    "    q3 = np.percentile(x, 75)\n",
    "    iqr = q3 - q1\n",
    "    print(f'Low-Band Outlier: {q1-1.5*iqr}')\n",
    "    print(f'High-Band Outlier: {q3+1.5*iqr}')\n",
    "    print('------')\n",
    "    print(f'Low-Band Extreme Outlier: {q1-3*iqr}')\n",
    "    print(f'High-Band Extreme Outlier: {q3+3*iqr}')\n",
    "\n",
    "outliers(df['number_of_reviews'])"
   ]
  },
  {
   "cell_type": "code",
   "execution_count": 5,
   "metadata": {},
   "outputs": [
    {
     "data": {
      "text/plain": [
       "9332"
      ]
     },
     "execution_count": 5,
     "metadata": {},
     "output_type": "execute_result"
    }
   ],
   "source": [
    "df.loc[df['number_of_reviews_ltm']>4, 'id'].count()"
   ]
  },
  {
   "cell_type": "code",
   "execution_count": 6,
   "metadata": {},
   "outputs": [],
   "source": [
    "# I keep just the listings with at least 5 reviews\n",
    "# in the past 12 months\n",
    "\n",
    "df = df[df['number_of_reviews_ltm']>4]"
   ]
  },
  {
   "cell_type": "markdown",
   "metadata": {},
   "source": [
    "### Price"
   ]
  },
  {
   "cell_type": "code",
   "execution_count": 7,
   "metadata": {},
   "outputs": [
    {
     "data": {
      "image/png": "[encoded data removed]",
      "text/plain": [
       "<Figure size 640x480 with 1 Axes>"
      ]
     },
     "metadata": {},
     "output_type": "display_data"
    }
   ],
   "source": [
    "df['price'].plot.hist();"
   ]
  },
  {
   "cell_type": "code",
   "execution_count": 8,
   "metadata": {},
   "outputs": [
    {
     "data": {
      "image/png": "[encoded data removed]",
      "text/plain": [
       "<Figure size 640x480 with 1 Axes>"
      ]
     },
     "metadata": {},
     "output_type": "display_data"
    }
   ],
   "source": [
    "df['price'].plot.box();"
   ]
  },
  {
   "cell_type": "code",
   "execution_count": 9,
   "metadata": {},
   "outputs": [
    {
     "name": "stdout",
     "output_type": "stream",
     "text": [
      "Low-Band Outlier: -17.5\n",
      "High-Band Outlier: 218.5\n",
      "------\n",
      "Low-Band Extreme Outlier: -106.0\n",
      "High-Band Extreme Outlier: 307.0\n"
     ]
    }
   ],
   "source": [
    "outliers(df['price'])"
   ]
  },
  {
   "cell_type": "code",
   "execution_count": 10,
   "metadata": {},
   "outputs": [
    {
     "data": {
      "text/plain": [
       "0"
      ]
     },
     "execution_count": 10,
     "metadata": {},
     "output_type": "execute_result"
    }
   ],
   "source": [
    "# There are no listings that cost too little\n",
    "\n",
    "df[df['price']<10]['id'].count()"
   ]
  },
  {
   "cell_type": "code",
   "execution_count": 11,
   "metadata": {},
   "outputs": [
    {
     "data": {
      "text/plain": [
       "712"
      ]
     },
     "execution_count": 11,
     "metadata": {},
     "output_type": "execute_result"
    }
   ],
   "source": [
    "# How many rows I'm deleting\n",
    "\n",
    "df[df['price']>219]['id'].count()"
   ]
  },
  {
   "cell_type": "code",
   "execution_count": 12,
   "metadata": {},
   "outputs": [],
   "source": [
    "# Exlude the outliers\n",
    "\n",
    "df = df[df['price'] < 219]"
   ]
  },
  {
   "cell_type": "markdown",
   "metadata": {},
   "source": [
    "### Bed"
   ]
  },
  {
   "cell_type": "code",
   "execution_count": 14,
   "metadata": {},
   "outputs": [
    {
     "data": {
      "image/png": "[encoded data removed]",
      "text/plain": [
       "<Figure size 640x480 with 1 Axes>"
      ]
     },
     "metadata": {},
     "output_type": "display_data"
    }
   ],
   "source": [
    "df['bed'].plot.hist(bins=20);"
   ]
  },
  {
   "cell_type": "code",
   "execution_count": 15,
   "metadata": {},
   "outputs": [
    {
     "name": "stdout",
     "output_type": "stream",
     "text": [
      "Low-Band Outlier: -0.5\n",
      "High-Band Outlier: 3.5\n",
      "------\n",
      "Low-Band Extreme Outlier: -2.0\n",
      "High-Band Extreme Outlier: 5.0\n"
     ]
    }
   ],
   "source": [
    "outliers(df['bed'])"
   ]
  },
  {
   "cell_type": "code",
   "execution_count": 16,
   "metadata": {},
   "outputs": [
    {
     "data": {
      "text/plain": [
       "155"
      ]
     },
     "execution_count": 16,
     "metadata": {},
     "output_type": "execute_result"
    }
   ],
   "source": [
    "df[df['bed']>4]['id'].count()"
   ]
  },
  {
   "cell_type": "code",
   "execution_count": 17,
   "metadata": {},
   "outputs": [],
   "source": [
    "df = df[df['bed']<6]"
   ]
  },
  {
   "cell_type": "markdown",
   "metadata": {},
   "source": [
    "### Bath"
   ]
  },
  {
   "cell_type": "code",
   "execution_count": 18,
   "metadata": {},
   "outputs": [
    {
     "name": "stdout",
     "output_type": "stream",
     "text": [
      "Low-Band Outlier: 1.0\n",
      "High-Band Outlier: 1.0\n",
      "------\n",
      "Low-Band Extreme Outlier: 1.0\n",
      "High-Band Extreme Outlier: 1.0\n"
     ]
    },
    {
     "data": {
      "image/png": "[encoded data removed]",
      "text/plain": [
       "<Figure size 640x480 with 1 Axes>"
      ]
     },
     "metadata": {},
     "output_type": "display_data"
    }
   ],
   "source": [
    "outliers(df['bath'])\n",
    "df['bath'].plot.hist(bins=20);"
   ]
  },
  {
   "cell_type": "code",
   "execution_count": 19,
   "metadata": {},
   "outputs": [
    {
     "data": {
      "text/plain": [
       "bath\n",
       "False    7889\n",
       "True      657\n",
       "Name: count, dtype: int64"
      ]
     },
     "execution_count": 19,
     "metadata": {},
     "output_type": "execute_result"
    }
   ],
   "source": [
    "# I've decided to keep all the bath values.\n",
    "# It's not rare for a home to have 2 baths\n",
    "\n",
    "(df['bath'] > 1).value_counts()"
   ]
  },
  {
   "cell_type": "markdown",
   "metadata": {},
   "source": [
    "### Bedroom"
   ]
  },
  {
   "cell_type": "code",
   "execution_count": 20,
   "metadata": {},
   "outputs": [
    {
     "name": "stdout",
     "output_type": "stream",
     "text": [
      "Low-Band Outlier: 1.0\n",
      "High-Band Outlier: 1.0\n",
      "------\n",
      "Low-Band Extreme Outlier: 1.0\n",
      "High-Band Extreme Outlier: 1.0\n"
     ]
    },
    {
     "data": {
      "image/png": "[encoded data removed]",
      "text/plain": [
       "<Figure size 640x480 with 1 Axes>"
      ]
     },
     "metadata": {},
     "output_type": "display_data"
    }
   ],
   "source": [
    "outliers(df['bedroom'])\n",
    "df['bedroom'].plot.hist(bins=20);"
   ]
  },
  {
   "cell_type": "code",
   "execution_count": 21,
   "metadata": {},
   "outputs": [],
   "source": [
    "df = df[df['minimum_nights']<6]"
   ]
  },
  {
   "cell_type": "markdown",
   "metadata": {},
   "source": [
    "### Stars"
   ]
  },
  {
   "cell_type": "code",
   "execution_count": 22,
   "metadata": {},
   "outputs": [],
   "source": [
    "# It's very unlikely to have 5 stars. Only the very new listings\n",
    "# have 5 stars. So I delete thme\n",
    "\n",
    "df = df[df['stars']!=5]"
   ]
  },
  {
   "cell_type": "markdown",
   "metadata": {},
   "source": [
    "### Room type"
   ]
  },
  {
   "cell_type": "code",
   "execution_count": 25,
   "metadata": {},
   "outputs": [
    {
     "data": {
      "text/plain": [
       "room_type\n",
       "Entire home/apt    6537\n",
       "Private room        826\n",
       "Shared room          42\n",
       "Hotel room            1\n",
       "Name: count, dtype: int64"
      ]
     },
     "execution_count": 25,
     "metadata": {},
     "output_type": "execute_result"
    }
   ],
   "source": [
    "df['room_type'].value_counts()"
   ]
  },
  {
   "cell_type": "code",
   "execution_count": 26,
   "metadata": {},
   "outputs": [],
   "source": [
    "# Drop the occurrences of Hotel room and Shared room\n",
    "\n",
    "df = df[(df['room_type'] != 'Hotel room')&(df['room_type'] != 'Shared room')]"
   ]
  },
  {
   "cell_type": "code",
   "execution_count": 27,
   "metadata": {},
   "outputs": [],
   "source": [
    "# Entire home/apt = 1\n",
    "# Private room = 0\n",
    "\n",
    "df['room'] = 1\n",
    "df.loc[df['room_type']=='Private room','room'] = 0"
   ]
  },
  {
   "cell_type": "markdown",
   "metadata": {},
   "source": [
    "### Adding Revenue in the last 12 Months\n",
    "\n",
    "There's no enough data to get the true revenue of the last 12 months. But we can get a proxy with this formula:\n",
    "\n",
    "*4.2 * number_of_reviews_ltm * price*\n",
    "\n",
    "The average number of nights per Airbnb booking in \"Europe, Middle East, and Africa\" in 2022 is 4.2.\n",
    "\n",
    "[Source](https://www.statista.com/statistics/1193597/airbnb-average-nights-per-booking-by-region-worldwide/)\n",
    "\n",
    "This is the best proxy based on the available data."
   ]
  },
  {
   "cell_type": "code",
   "execution_count": 23,
   "metadata": {},
   "outputs": [],
   "source": [
    "df['multiply'] = 4.2\n",
    "df.loc[df['minimum_nights']==5, 'multiply'] = 5"
   ]
  },
  {
   "cell_type": "code",
   "execution_count": 24,
   "metadata": {},
   "outputs": [
    {
     "data": {
      "text/html": [
       "<div>\n",
       "<style scoped>\n",
       "    .dataframe tbody tr th:only-of-type {\n",
       "        vertical-align: middle;\n",
       "    }\n",
       "\n",
       "    .dataframe tbody tr th {\n",
       "        vertical-align: top;\n",
       "    }\n",
       "\n",
       "    .dataframe thead th {\n",
       "        text-align: right;\n",
       "    }\n",
       "</style>\n",
       "<table border=\"1\" class=\"dataframe\">\n",
       "  <thead>\n",
       "    <tr style=\"text-align: right;\">\n",
       "      <th></th>\n",
       "      <th>id</th>\n",
       "      <th>name</th>\n",
       "      <th>price</th>\n",
       "      <th>room_type</th>\n",
       "      <th>number_of_reviews</th>\n",
       "      <th>stars</th>\n",
       "      <th>bed</th>\n",
       "      <th>bedroom</th>\n",
       "      <th>bath</th>\n",
       "      <th>neighbourhood</th>\n",
       "      <th>...</th>\n",
       "      <th>longitude</th>\n",
       "      <th>minimum_nights</th>\n",
       "      <th>last_review</th>\n",
       "      <th>reviews_per_month</th>\n",
       "      <th>number_of_reviews_ltm</th>\n",
       "      <th>calculated_host_listings_count</th>\n",
       "      <th>host_id</th>\n",
       "      <th>days_online</th>\n",
       "      <th>multiply</th>\n",
       "      <th>revenue_ltm</th>\n",
       "    </tr>\n",
       "  </thead>\n",
       "  <tbody>\n",
       "    <tr>\n",
       "      <th>2</th>\n",
       "      <td>304050</td>\n",
       "      <td>Rental unit in Milan · ★4.91 · 1 bedroom · 1 b...</td>\n",
       "      <td>49.0</td>\n",
       "      <td>Private room</td>\n",
       "      <td>264.0</td>\n",
       "      <td>4.91</td>\n",
       "      <td>1.0</td>\n",
       "      <td>1.0</td>\n",
       "      <td>1.0</td>\n",
       "      <td>XXII MARZO</td>\n",
       "      <td>...</td>\n",
       "      <td>9.21531</td>\n",
       "      <td>2.0</td>\n",
       "      <td>2023-11-21</td>\n",
       "      <td>1.92</td>\n",
       "      <td>33.0</td>\n",
       "      <td>2.0</td>\n",
       "      <td>1566887</td>\n",
       "      <td>4124.0</td>\n",
       "      <td>4.2</td>\n",
       "      <td>6791.4</td>\n",
       "    </tr>\n",
       "    <tr>\n",
       "      <th>3</th>\n",
       "      <td>46536</td>\n",
       "      <td>Rental unit in Milan · ★4.53 · 2 bedrooms · 3 ...</td>\n",
       "      <td>110.0</td>\n",
       "      <td>Entire home/apt</td>\n",
       "      <td>35.0</td>\n",
       "      <td>4.53</td>\n",
       "      <td>3.0</td>\n",
       "      <td>2.0</td>\n",
       "      <td>1.0</td>\n",
       "      <td>VIALE MONZA</td>\n",
       "      <td>...</td>\n",
       "      <td>9.22478</td>\n",
       "      <td>3.0</td>\n",
       "      <td>2023-10-30</td>\n",
       "      <td>0.24</td>\n",
       "      <td>5.0</td>\n",
       "      <td>1.0</td>\n",
       "      <td>138683</td>\n",
       "      <td>4402.0</td>\n",
       "      <td>4.2</td>\n",
       "      <td>2310.0</td>\n",
       "    </tr>\n",
       "  </tbody>\n",
       "</table>\n",
       "<p>2 rows × 21 columns</p>\n",
       "</div>"
      ],
      "text/plain": [
       "       id                                               name  price  \\\n",
       "2  304050  Rental unit in Milan · ★4.91 · 1 bedroom · 1 b...   49.0   \n",
       "3   46536  Rental unit in Milan · ★4.53 · 2 bedrooms · 3 ...  110.0   \n",
       "\n",
       "         room_type  number_of_reviews  stars  bed  bedroom  bath  \\\n",
       "2     Private room              264.0   4.91  1.0      1.0   1.0   \n",
       "3  Entire home/apt               35.0   4.53  3.0      2.0   1.0   \n",
       "\n",
       "  neighbourhood  ...  longitude  minimum_nights  last_review  \\\n",
       "2    XXII MARZO  ...    9.21531             2.0   2023-11-21   \n",
       "3   VIALE MONZA  ...    9.22478             3.0   2023-10-30   \n",
       "\n",
       "  reviews_per_month  number_of_reviews_ltm  calculated_host_listings_count  \\\n",
       "2              1.92                   33.0                             2.0   \n",
       "3              0.24                    5.0                             1.0   \n",
       "\n",
       "   host_id  days_online  multiply  revenue_ltm  \n",
       "2  1566887       4124.0       4.2       6791.4  \n",
       "3   138683       4402.0       4.2       2310.0  \n",
       "\n",
       "[2 rows x 21 columns]"
      ]
     },
     "execution_count": 24,
     "metadata": {},
     "output_type": "execute_result"
    }
   ],
   "source": [
    "df['revenue_ltm'] = df['multiply'] * df['number_of_reviews_ltm'] * df['price']\n",
    "\n",
    "df.head(2)"
   ]
  },
  {
   "cell_type": "markdown",
   "metadata": {},
   "source": [
    "### Delete the 'neighbourhood' with too few occurrences"
   ]
  },
  {
   "cell_type": "code",
   "execution_count": 28,
   "metadata": {},
   "outputs": [
    {
     "data": {
      "text/plain": [
       "neighbourhood\n",
       "NAVIGLI       327\n",
       "TICINESE      314\n",
       "BRERA         300\n",
       "ISOLA         277\n",
       "XXII MARZO    196\n",
       "Name: count, dtype: int64"
      ]
     },
     "execution_count": 28,
     "metadata": {},
     "output_type": "execute_result"
    }
   ],
   "source": [
    "neigh_count = df['neighbourhood'].value_counts()\n",
    "neigh_count[5:10]"
   ]
  },
  {
   "cell_type": "code",
   "execution_count": 29,
   "metadata": {},
   "outputs": [
    {
     "name": "stdout",
     "output_type": "stream",
     "text": [
      "42\n",
      "37\n"
     ]
    }
   ],
   "source": [
    "# Check to see how many columns I'm deleting\n",
    "\n",
    "print(neigh_count[neigh_count<50].count())\n",
    "print(neigh_count[neigh_count>50].count())"
   ]
  },
  {
   "cell_type": "code",
   "execution_count": 30,
   "metadata": {},
   "outputs": [],
   "source": [
    "neigh_count = neigh_count[neigh_count>50]\n",
    "\n",
    "# I delete the listings that aren't in our considered neighbourhoods\n",
    "df = df[df['neighbourhood'].isin(neigh_count.index.to_list())]"
   ]
  },
  {
   "cell_type": "markdown",
   "metadata": {},
   "source": [
    "### Stars\n",
    "Stars work better if binned because there isn't a linear relationship between them and revenue."
   ]
  },
  {
   "cell_type": "code",
   "execution_count": 31,
   "metadata": {},
   "outputs": [
    {
     "name": "stdout",
     "output_type": "stream",
     "text": [
      "Low-Band Outlier: 4.215000000000001\n",
      "High-Band Outlier: 5.294999999999999\n",
      "------\n",
      "Low-Band Extreme Outlier: 3.8100000000000014\n",
      "High-Band Extreme Outlier: 5.699999999999998\n"
     ]
    }
   ],
   "source": [
    "outliers(df['stars'])"
   ]
  },
  {
   "cell_type": "code",
   "execution_count": 32,
   "metadata": {},
   "outputs": [
    {
     "data": {
      "text/plain": [
       "stars\n",
       "False    6337\n",
       "True      136\n",
       "Name: count, dtype: int64"
      ]
     },
     "execution_count": 32,
     "metadata": {},
     "output_type": "execute_result"
    }
   ],
   "source": [
    "# See how many columns I'm deleting\n",
    "\n",
    "(df['stars'] < 4).value_counts()"
   ]
  },
  {
   "cell_type": "code",
   "execution_count": 33,
   "metadata": {},
   "outputs": [],
   "source": [
    "# It's very unlikely for a listing to have 5 stars\n",
    "# that happens only to listings with few reviews.\n",
    "# This may impact out analysis, so I get rid of it\n",
    "\n",
    "df = df[(df['stars']>4) & (df['stars']!=5)]"
   ]
  },
  {
   "cell_type": "code",
   "execution_count": 34,
   "metadata": {},
   "outputs": [],
   "source": [
    "# binning the stars column\n",
    "\n",
    "df['star_group'] = pd.qcut(df['stars'], 9)"
   ]
  },
  {
   "cell_type": "markdown",
   "metadata": {},
   "source": [
    "## Data Visualization"
   ]
  },
  {
   "cell_type": "code",
   "execution_count": 35,
   "metadata": {},
   "outputs": [],
   "source": [
    "# The parameters has been found using GridsearchCV\n",
    "from sklearn.neighbors import KernelDensity\n",
    "\n",
    "\n",
    "x_d = pd.DataFrame(data={'price':np.linspace(df['price'].min(),\n",
    "                                             df['price'].max(), 3000)})\n",
    "\n",
    "# instantiate and fit the KDE model\n",
    "kde = KernelDensity(bandwidth=6, kernel='gaussian')\n",
    "kde.fit(df[['price']])\n",
    "\n",
    "# get the log of the probability density\n",
    "logprob = kde.score_samples(x_d)"
   ]
  },
  {
   "cell_type": "code",
   "execution_count": 36,
   "metadata": {},
   "outputs": [
    {
     "data": {
      "image/png": "[encoded data removed]",
      "text/plain": [
       "<Figure size 1600x900 with 1 Axes>"
      ]
     },
     "metadata": {},
     "output_type": "display_data"
    }
   ],
   "source": [
    "fig, ax = plt.subplots(figsize=(16,9))\n",
    "\n",
    "ax.fill_between(x_d['price'],\n",
    "                np.exp(logprob), alpha=1, color='steelblue');"
   ]
  },
  {
   "cell_type": "code",
   "execution_count": 70,
   "metadata": {},
   "outputs": [],
   "source": [
    "\n",
    "x_d_reviews = pd.DataFrame(data={'revenue_ltm':np.linspace(df['revenue_ltm'].min(),\n",
    "                                             30000, 1000)})\n",
    "\n",
    "kde_r = KernelDensity(bandwidth=500.2, kernel='gaussian')\n",
    "kde_r.fit(df[['revenue_ltm']])\n",
    "\n",
    "logprob_reviews = kde_r.score_samples(x_d_reviews)"
   ]
  },
  {
   "cell_type": "code",
   "execution_count": 75,
   "metadata": {},
   "outputs": [],
   "source": [
    "# Export for Tableau\n",
    "\n",
    "revenue_dist = pd.DataFrame({'revenue_ltm':x_d_reviews['revenue_ltm'],\n",
    "                             'Density':np.exp(logprob_reviews)})\n",
    "revenue_dist.to_csv(r'C:\\Users\\matte\\OneDrive\\Desktop\\GitHub\\data\\Airbnb\\for_talbeau\\revenue_dis.csv',\n",
    "                    index=None)"
   ]
  },
  {
   "cell_type": "code",
   "execution_count": 71,
   "metadata": {},
   "outputs": [
    {
     "data": {
      "image/png": "[encoded data removed]",
      "text/plain": [
       "<Figure size 1600x900 with 1 Axes>"
      ]
     },
     "metadata": {},
     "output_type": "display_data"
    }
   ],
   "source": [
    "fig, ax = plt.subplots(figsize=(16,9))\n",
    "ax.fill_between(x_d_reviews['revenue_ltm'],\n",
    "                np.exp(logprob_reviews), alpha=1, color='steelblue');"
   ]
  },
  {
   "cell_type": "code",
   "execution_count": 39,
   "metadata": {},
   "outputs": [
    {
     "data": {
      "image/png": "[encoded data removed]",
      "text/plain": [
       "<Figure size 640x480 with 1 Axes>"
      ]
     },
     "metadata": {},
     "output_type": "display_data"
    }
   ],
   "source": [
    "df.groupby('room_type')['revenue_ltm'].count().plot.bar();"
   ]
  },
  {
   "cell_type": "code",
   "execution_count": 40,
   "metadata": {},
   "outputs": [
    {
     "data": {
      "image/png": "[encoded data removed]",
      "text/plain": [
       "<Figure size 640x480 with 1 Axes>"
      ]
     },
     "metadata": {},
     "output_type": "display_data"
    }
   ],
   "source": [
    "df.groupby('room_type')['revenue_ltm'].mean().plot.bar();"
   ]
  },
  {
   "cell_type": "code",
   "execution_count": 83,
   "metadata": {},
   "outputs": [
    {
     "name": "stderr",
     "output_type": "stream",
     "text": [
      "c:\\Users\\matte\\anaconda3\\Lib\\site-packages\\seaborn\\_oldcore.py:1498: FutureWarning: is_categorical_dtype is deprecated and will be removed in a future version. Use isinstance(dtype, CategoricalDtype) instead\n",
      "  if pd.api.types.is_categorical_dtype(vector):\n",
      "c:\\Users\\matte\\anaconda3\\Lib\\site-packages\\seaborn\\_oldcore.py:1498: FutureWarning: is_categorical_dtype is deprecated and will be removed in a future version. Use isinstance(dtype, CategoricalDtype) instead\n",
      "  if pd.api.types.is_categorical_dtype(vector):\n",
      "c:\\Users\\matte\\anaconda3\\Lib\\site-packages\\seaborn\\_oldcore.py:1498: FutureWarning: is_categorical_dtype is deprecated and will be removed in a future version. Use isinstance(dtype, CategoricalDtype) instead\n",
      "  if pd.api.types.is_categorical_dtype(vector):\n"
     ]
    },
    {
     "data": {
      "image/png": "[encoded data removed]",
      "text/plain": [
       "<Figure size 640x480 with 1 Axes>"
      ]
     },
     "metadata": {},
     "output_type": "display_data"
    }
   ],
   "source": [
    "sns.barplot(x=df['bed'], y=df['revenue_ltm'], errorbar=None);"
   ]
  },
  {
   "cell_type": "code",
   "execution_count": 84,
   "metadata": {},
   "outputs": [
    {
     "data": {
      "image/png": "[encoded data removed]",
      "text/plain": [
       "<Figure size 640x480 with 1 Axes>"
      ]
     },
     "metadata": {},
     "output_type": "display_data"
    }
   ],
   "source": [
    "# The vast majority of listings have > 4 stars.\n",
    "\n",
    "df['stars'].plot.hist(bins=20);"
   ]
  },
  {
   "cell_type": "code",
   "execution_count": 78,
   "metadata": {},
   "outputs": [
    {
     "name": "stderr",
     "output_type": "stream",
     "text": [
      "C:\\Users\\matte\\AppData\\Local\\Temp\\ipykernel_1248\\1308320573.py:1: FutureWarning: The default of observed=False is deprecated and will be changed to True in a future version of pandas. Pass observed=False to retain current behavior or observed=True to adopt the future default and silence this warning.\n",
      "  df.groupby('star_group')['revenue_ltm'].mean().plot.bar();\n"
     ]
    },
    {
     "data": {
      "image/png": "[encoded data removed]",
      "text/plain": [
       "<Figure size 640x480 with 1 Axes>"
      ]
     },
     "metadata": {},
     "output_type": "display_data"
    }
   ],
   "source": [
    "df.groupby('star_group')['revenue_ltm'].mean().plot.bar();"
   ]
  },
  {
   "cell_type": "code",
   "execution_count": 44,
   "metadata": {},
   "outputs": [],
   "source": [
    "import statsmodels.api as sm\n",
    "from statsmodels.formula.api import ols\n",
    "\n",
    "pd.set_option('display.float_format', '{:.6f}'.format)"
   ]
  },
  {
   "cell_type": "markdown",
   "metadata": {},
   "source": [
    "## Machine Learning"
   ]
  },
  {
   "cell_type": "markdown",
   "metadata": {},
   "source": [
    "### ANOVA test 'neighbourhood'"
   ]
  },
  {
   "cell_type": "code",
   "execution_count": 45,
   "metadata": {},
   "outputs": [
    {
     "data": {
      "text/plain": [
       "F_onewayResult(statistic=15.021850584042033, pvalue=4.0145397601303006e-87)"
      ]
     },
     "execution_count": 45,
     "metadata": {},
     "output_type": "execute_result"
    }
   ],
   "source": [
    "from scipy.stats import f_oneway\n",
    "\n",
    "neigs = neigh_count.index.to_list()\n",
    "f_oneway(*[df.loc[df['neighbourhood']==name, 'revenue_ltm'] for name in neigs])"
   ]
  },
  {
   "cell_type": "markdown",
   "metadata": {},
   "source": [
    "#### One-hot encoding neighbourhood"
   ]
  },
  {
   "cell_type": "code",
   "execution_count": 46,
   "metadata": {},
   "outputs": [],
   "source": [
    "# One hot encoding 'neighbourhood'\n",
    "\n",
    "df = pd.concat([df,\n",
    "           pd.get_dummies(df['neighbourhood'], dtype='float64')],\n",
    "           axis='columns')"
   ]
  },
  {
   "cell_type": "markdown",
   "metadata": {},
   "source": [
    "#### Which of the neig really influence revenue"
   ]
  },
  {
   "cell_type": "code",
   "execution_count": 47,
   "metadata": {},
   "outputs": [],
   "source": [
    "# A new dataframe that has just the columns we'll use for stats model\n",
    "\n",
    "num_col_stats = ['price','bed','bedroom','bath','minimum_nights','days_online']\n",
    "cat_col_stats = ['neighbourhood','room_type','star_group']\n",
    "\n",
    "df_stats = df[num_col_stats+cat_col_stats+['revenue_ltm']]"
   ]
  },
  {
   "cell_type": "code",
   "execution_count": 48,
   "metadata": {},
   "outputs": [
    {
     "name": "stdout",
     "output_type": "stream",
     "text": [
      "Overall model F( 36, 6251) =  15.022, p =  0.0000\n"
     ]
    },
    {
     "data": {
      "text/html": [
       "<table class=\"simpletable\">\n",
       "<caption>OLS Regression Results</caption>\n",
       "<tr>\n",
       "  <th>Dep. Variable:</th>       <td>revenue_ltm</td>   <th>  R-squared:         </th> <td>   0.080</td> \n",
       "</tr>\n",
       "<tr>\n",
       "  <th>Model:</th>                   <td>OLS</td>       <th>  Adj. R-squared:    </th> <td>   0.074</td> \n",
       "</tr>\n",
       "<tr>\n",
       "  <th>Method:</th>             <td>Least Squares</td>  <th>  F-statistic:       </th> <td>   15.02</td> \n",
       "</tr>\n",
       "<tr>\n",
       "  <th>Date:</th>             <td>Tue, 23 Jan 2024</td> <th>  Prob (F-statistic):</th> <td>4.01e-87</td> \n",
       "</tr>\n",
       "<tr>\n",
       "  <th>Time:</th>                 <td>08:49:57</td>     <th>  Log-Likelihood:    </th> <td> -67732.</td> \n",
       "</tr>\n",
       "<tr>\n",
       "  <th>No. Observations:</th>      <td>  6288</td>      <th>  AIC:               </th> <td>1.355e+05</td>\n",
       "</tr>\n",
       "<tr>\n",
       "  <th>Df Residuals:</th>          <td>  6251</td>      <th>  BIC:               </th> <td>1.358e+05</td>\n",
       "</tr>\n",
       "<tr>\n",
       "  <th>Df Model:</th>              <td>    36</td>      <th>                     </th>     <td> </td>    \n",
       "</tr>\n",
       "<tr>\n",
       "  <th>Covariance Type:</th>      <td>nonrobust</td>    <th>                     </th>     <td> </td>    \n",
       "</tr>\n",
       "</table>\n",
       "<table class=\"simpletable\">\n",
       "<tr>\n",
       "                       <td></td>                          <th>coef</th>     <th>std err</th>      <th>t</th>      <th>P>|t|</th>  <th>[0.025</th>    <th>0.975]</th>  \n",
       "</tr>\n",
       "<tr>\n",
       "  <th>Intercept</th>                                   <td> 8132.7443</td> <td> 1480.647</td> <td>    5.493</td> <td> 0.000</td> <td> 5230.167</td> <td>  1.1e+04</td>\n",
       "</tr>\n",
       "<tr>\n",
       "  <th>C(neighbourhood)[T.BANDE NERE]</th>              <td>  986.5717</td> <td> 1821.019</td> <td>    0.542</td> <td> 0.588</td> <td>-2583.251</td> <td> 4556.394</td>\n",
       "</tr>\n",
       "<tr>\n",
       "  <th>C(neighbourhood)[T.BRERA]</th>                   <td> 8429.5453</td> <td> 1625.605</td> <td>    5.185</td> <td> 0.000</td> <td> 5242.802</td> <td> 1.16e+04</td>\n",
       "</tr>\n",
       "<tr>\n",
       "  <th>C(neighbourhood)[T.BUENOS AIRES - VENEZIA]</th>  <td> 5528.6417</td> <td> 1554.092</td> <td>    3.557</td> <td> 0.000</td> <td> 2482.087</td> <td> 8575.196</td>\n",
       "</tr>\n",
       "<tr>\n",
       "  <th>C(neighbourhood)[T.CENTRALE]</th>                <td> 8370.8095</td> <td> 1592.513</td> <td>    5.256</td> <td> 0.000</td> <td> 5248.936</td> <td> 1.15e+04</td>\n",
       "</tr>\n",
       "<tr>\n",
       "  <th>C(neighbourhood)[T.CITTA' STUDI]</th>            <td>  178.2822</td> <td> 1754.410</td> <td>    0.102</td> <td> 0.919</td> <td>-3260.964</td> <td> 3617.529</td>\n",
       "</tr>\n",
       "<tr>\n",
       "  <th>C(neighbourhood)[T.CORSICA]</th>                 <td>  220.4466</td> <td> 2053.911</td> <td>    0.107</td> <td> 0.915</td> <td>-3805.924</td> <td> 4246.817</td>\n",
       "</tr>\n",
       "<tr>\n",
       "  <th>C(neighbourhood)[T.DE ANGELI - MONTE ROSA]</th>  <td> 2115.7072</td> <td> 1782.031</td> <td>    1.187</td> <td> 0.235</td> <td>-1377.686</td> <td> 5609.101</td>\n",
       "</tr>\n",
       "<tr>\n",
       "  <th>C(neighbourhood)[T.DERGANO]</th>                 <td> -175.0175</td> <td> 2018.875</td> <td>   -0.087</td> <td> 0.931</td> <td>-4132.706</td> <td> 3782.671</td>\n",
       "</tr>\n",
       "<tr>\n",
       "  <th>C(neighbourhood)[T.DUOMO]</th>                   <td> 1.258e+04</td> <td> 1581.282</td> <td>    7.955</td> <td> 0.000</td> <td> 9478.986</td> <td> 1.57e+04</td>\n",
       "</tr>\n",
       "<tr>\n",
       "  <th>C(neighbourhood)[T.GARIBALDI REPUBBLICA]</th>    <td> 4714.5930</td> <td> 1823.632</td> <td>    2.585</td> <td> 0.010</td> <td> 1139.648</td> <td> 8289.538</td>\n",
       "</tr>\n",
       "<tr>\n",
       "  <th>C(neighbourhood)[T.GHISOLFA]</th>                <td> 2568.7557</td> <td> 1945.342</td> <td>    1.320</td> <td> 0.187</td> <td>-1244.783</td> <td> 6382.295</td>\n",
       "</tr>\n",
       "<tr>\n",
       "  <th>C(neighbourhood)[T.GIAMBELLINO]</th>             <td>  210.4880</td> <td> 1808.534</td> <td>    0.116</td> <td> 0.907</td> <td>-3334.860</td> <td> 3755.836</td>\n",
       "</tr>\n",
       "<tr>\n",
       "  <th>C(neighbourhood)[T.GRECO]</th>                   <td> -126.8776</td> <td> 2160.746</td> <td>   -0.059</td> <td> 0.953</td> <td>-4362.682</td> <td> 4108.926</td>\n",
       "</tr>\n",
       "<tr>\n",
       "  <th>C(neighbourhood)[T.GUASTALLA]</th>               <td> 5537.8224</td> <td> 1790.372</td> <td>    3.093</td> <td> 0.002</td> <td> 2028.078</td> <td> 9047.567</td>\n",
       "</tr>\n",
       "<tr>\n",
       "  <th>C(neighbourhood)[T.ISOLA]</th>                   <td> 3176.5093</td> <td> 1639.957</td> <td>    1.937</td> <td> 0.053</td> <td>  -38.370</td> <td> 6391.388</td>\n",
       "</tr>\n",
       "<tr>\n",
       "  <th>C(neighbourhood)[T.LODI - CORVETTO]</th>         <td> 1292.2801</td> <td> 1810.956</td> <td>    0.714</td> <td> 0.476</td> <td>-2257.817</td> <td> 4842.377</td>\n",
       "</tr>\n",
       "<tr>\n",
       "  <th>C(neighbourhood)[T.LORETO]</th>                  <td> 2136.6801</td> <td> 1612.078</td> <td>    1.325</td> <td> 0.185</td> <td>-1023.546</td> <td> 5296.906</td>\n",
       "</tr>\n",
       "<tr>\n",
       "  <th>C(neighbourhood)[T.MACIACHINI - MAGGIOLINA]</th> <td> 4629.4376</td> <td> 1815.911</td> <td>    2.549</td> <td> 0.011</td> <td> 1069.627</td> <td> 8189.248</td>\n",
       "</tr>\n",
       "<tr>\n",
       "  <th>C(neighbourhood)[T.MAGENTA - S. VITTORE]</th>    <td> 6316.4916</td> <td> 1786.144</td> <td>    3.536</td> <td> 0.000</td> <td> 2815.035</td> <td> 9817.948</td>\n",
       "</tr>\n",
       "<tr>\n",
       "  <th>C(neighbourhood)[T.NAVIGLI]</th>                 <td> 5457.2576</td> <td> 1613.238</td> <td>    3.383</td> <td> 0.001</td> <td> 2294.758</td> <td> 8619.757</td>\n",
       "</tr>\n",
       "<tr>\n",
       "  <th>C(neighbourhood)[T.PADOVA]</th>                  <td>-1145.4808</td> <td> 1810.956</td> <td>   -0.633</td> <td> 0.527</td> <td>-4695.578</td> <td> 2404.616</td>\n",
       "</tr>\n",
       "<tr>\n",
       "  <th>C(neighbourhood)[T.PAGANO]</th>                  <td> 5275.0445</td> <td> 2018.875</td> <td>    2.613</td> <td> 0.009</td> <td> 1317.356</td> <td> 9232.733</td>\n",
       "</tr>\n",
       "<tr>\n",
       "  <th>C(neighbourhood)[T.PORTA ROMANA]</th>            <td> 3237.7757</td> <td> 1756.092</td> <td>    1.844</td> <td> 0.065</td> <td> -204.768</td> <td> 6680.319</td>\n",
       "</tr>\n",
       "<tr>\n",
       "  <th>C(neighbourhood)[T.S. CRISTOFORO]</th>           <td> 3248.0176</td> <td> 1945.342</td> <td>    1.670</td> <td> 0.095</td> <td> -565.521</td> <td> 7061.557</td>\n",
       "</tr>\n",
       "<tr>\n",
       "  <th>C(neighbourhood)[T.SARPI]</th>                   <td> 4416.9512</td> <td> 1612.078</td> <td>    2.740</td> <td> 0.006</td> <td> 1256.725</td> <td> 7577.177</td>\n",
       "</tr>\n",
       "<tr>\n",
       "  <th>C(neighbourhood)[T.SELINUNTE]</th>               <td> 5299.3916</td> <td> 1976.568</td> <td>    2.681</td> <td> 0.007</td> <td> 1424.640</td> <td> 9174.144</td>\n",
       "</tr>\n",
       "<tr>\n",
       "  <th>C(neighbourhood)[T.STADERA]</th>                 <td>-1201.8260</td> <td> 2018.875</td> <td>   -0.595</td> <td> 0.552</td> <td>-5159.515</td> <td> 2755.863</td>\n",
       "</tr>\n",
       "<tr>\n",
       "  <th>C(neighbourhood)[T.TIBALDI]</th>                 <td> 1179.6002</td> <td> 2012.386</td> <td>    0.586</td> <td> 0.558</td> <td>-2765.367</td> <td> 5124.567</td>\n",
       "</tr>\n",
       "<tr>\n",
       "  <th>C(neighbourhood)[T.TICINESE]</th>                <td> 6424.1840</td> <td> 1622.412</td> <td>    3.960</td> <td> 0.000</td> <td> 3243.698</td> <td> 9604.670</td>\n",
       "</tr>\n",
       "<tr>\n",
       "  <th>C(neighbourhood)[T.TORTONA]</th>                 <td>  849.5866</td> <td> 1782.031</td> <td>    0.477</td> <td> 0.634</td> <td>-2643.807</td> <td> 4342.980</td>\n",
       "</tr>\n",
       "<tr>\n",
       "  <th>C(neighbourhood)[T.UMBRIA - MOLISE]</th>         <td> -100.0928</td> <td> 1861.706</td> <td>   -0.054</td> <td> 0.957</td> <td>-3749.676</td> <td> 3549.490</td>\n",
       "</tr>\n",
       "<tr>\n",
       "  <th>C(neighbourhood)[T.VIALE MONZA]</th>             <td> 4460.8964</td> <td> 1837.329</td> <td>    2.428</td> <td> 0.015</td> <td>  859.099</td> <td> 8062.693</td>\n",
       "</tr>\n",
       "<tr>\n",
       "  <th>C(neighbourhood)[T.VIGENTINA]</th>               <td> 3659.0769</td> <td> 1940.522</td> <td>    1.886</td> <td> 0.059</td> <td> -145.013</td> <td> 7463.167</td>\n",
       "</tr>\n",
       "<tr>\n",
       "  <th>C(neighbourhood)[T.VILLAPIZZONE]</th>            <td>  213.9490</td> <td> 1823.632</td> <td>    0.117</td> <td> 0.907</td> <td>-3360.996</td> <td> 3788.894</td>\n",
       "</tr>\n",
       "<tr>\n",
       "  <th>C(neighbourhood)[T.WASHINGTON]</th>              <td> 1916.9942</td> <td> 1826.286</td> <td>    1.050</td> <td> 0.294</td> <td>-1663.153</td> <td> 5497.142</td>\n",
       "</tr>\n",
       "<tr>\n",
       "  <th>C(neighbourhood)[T.XXII MARZO]</th>              <td> 4209.5836</td> <td> 1697.543</td> <td>    2.480</td> <td> 0.013</td> <td>  881.816</td> <td> 7537.352</td>\n",
       "</tr>\n",
       "</table>\n",
       "<table class=\"simpletable\">\n",
       "<tr>\n",
       "  <th>Omnibus:</th>       <td>2948.089</td> <th>  Durbin-Watson:     </th> <td>   1.814</td> \n",
       "</tr>\n",
       "<tr>\n",
       "  <th>Prob(Omnibus):</th>  <td> 0.000</td>  <th>  Jarque-Bera (JB):  </th> <td>20603.215</td>\n",
       "</tr>\n",
       "<tr>\n",
       "  <th>Skew:</th>           <td> 2.133</td>  <th>  Prob(JB):          </th> <td>    0.00</td> \n",
       "</tr>\n",
       "<tr>\n",
       "  <th>Kurtosis:</th>       <td>10.774</td>  <th>  Cond. No.          </th> <td>    63.5</td> \n",
       "</tr>\n",
       "</table><br/><br/>Notes:<br/>[1] Standard Errors assume that the covariance matrix of the errors is correctly specified."
      ],
      "text/latex": [
       "\\begin{center}\n",
       "\\begin{tabular}{lclc}\n",
       "\\toprule\n",
       "\\textbf{Dep. Variable:}                              &   revenue\\_ltm   & \\textbf{  R-squared:         } &     0.080   \\\\\n",
       "\\textbf{Model:}                                      &       OLS        & \\textbf{  Adj. R-squared:    } &     0.074   \\\\\n",
       "\\textbf{Method:}                                     &  Least Squares   & \\textbf{  F-statistic:       } &     15.02   \\\\\n",
       "\\textbf{Date:}                                       & Tue, 23 Jan 2024 & \\textbf{  Prob (F-statistic):} &  4.01e-87   \\\\\n",
       "\\textbf{Time:}                                       &     08:49:57     & \\textbf{  Log-Likelihood:    } &   -67732.   \\\\\n",
       "\\textbf{No. Observations:}                           &        6288      & \\textbf{  AIC:               } & 1.355e+05   \\\\\n",
       "\\textbf{Df Residuals:}                               &        6251      & \\textbf{  BIC:               } & 1.358e+05   \\\\\n",
       "\\textbf{Df Model:}                                   &          36      & \\textbf{                     } &             \\\\\n",
       "\\textbf{Covariance Type:}                            &    nonrobust     & \\textbf{                     } &             \\\\\n",
       "\\bottomrule\n",
       "\\end{tabular}\n",
       "\\begin{tabular}{lcccccc}\n",
       "                                                     & \\textbf{coef} & \\textbf{std err} & \\textbf{t} & \\textbf{P$> |$t$|$} & \\textbf{[0.025} & \\textbf{0.975]}  \\\\\n",
       "\\midrule\n",
       "\\textbf{Intercept}                                   &    8132.7443  &     1480.647     &     5.493  &         0.000        &     5230.167    &      1.1e+04     \\\\\n",
       "\\textbf{C(neighbourhood)[T.BANDE NERE]}              &     986.5717  &     1821.019     &     0.542  &         0.588        &    -2583.251    &     4556.394     \\\\\n",
       "\\textbf{C(neighbourhood)[T.BRERA]}                   &    8429.5453  &     1625.605     &     5.185  &         0.000        &     5242.802    &     1.16e+04     \\\\\n",
       "\\textbf{C(neighbourhood)[T.BUENOS AIRES - VENEZIA]}  &    5528.6417  &     1554.092     &     3.557  &         0.000        &     2482.087    &     8575.196     \\\\\n",
       "\\textbf{C(neighbourhood)[T.CENTRALE]}                &    8370.8095  &     1592.513     &     5.256  &         0.000        &     5248.936    &     1.15e+04     \\\\\n",
       "\\textbf{C(neighbourhood)[T.CITTA' STUDI]}            &     178.2822  &     1754.410     &     0.102  &         0.919        &    -3260.964    &     3617.529     \\\\\n",
       "\\textbf{C(neighbourhood)[T.CORSICA]}                 &     220.4466  &     2053.911     &     0.107  &         0.915        &    -3805.924    &     4246.817     \\\\\n",
       "\\textbf{C(neighbourhood)[T.DE ANGELI - MONTE ROSA]}  &    2115.7072  &     1782.031     &     1.187  &         0.235        &    -1377.686    &     5609.101     \\\\\n",
       "\\textbf{C(neighbourhood)[T.DERGANO]}                 &    -175.0175  &     2018.875     &    -0.087  &         0.931        &    -4132.706    &     3782.671     \\\\\n",
       "\\textbf{C(neighbourhood)[T.DUOMO]}                   &    1.258e+04  &     1581.282     &     7.955  &         0.000        &     9478.986    &     1.57e+04     \\\\\n",
       "\\textbf{C(neighbourhood)[T.GARIBALDI REPUBBLICA]}    &    4714.5930  &     1823.632     &     2.585  &         0.010        &     1139.648    &     8289.538     \\\\\n",
       "\\textbf{C(neighbourhood)[T.GHISOLFA]}                &    2568.7557  &     1945.342     &     1.320  &         0.187        &    -1244.783    &     6382.295     \\\\\n",
       "\\textbf{C(neighbourhood)[T.GIAMBELLINO]}             &     210.4880  &     1808.534     &     0.116  &         0.907        &    -3334.860    &     3755.836     \\\\\n",
       "\\textbf{C(neighbourhood)[T.GRECO]}                   &    -126.8776  &     2160.746     &    -0.059  &         0.953        &    -4362.682    &     4108.926     \\\\\n",
       "\\textbf{C(neighbourhood)[T.GUASTALLA]}               &    5537.8224  &     1790.372     &     3.093  &         0.002        &     2028.078    &     9047.567     \\\\\n",
       "\\textbf{C(neighbourhood)[T.ISOLA]}                   &    3176.5093  &     1639.957     &     1.937  &         0.053        &      -38.370    &     6391.388     \\\\\n",
       "\\textbf{C(neighbourhood)[T.LODI - CORVETTO]}         &    1292.2801  &     1810.956     &     0.714  &         0.476        &    -2257.817    &     4842.377     \\\\\n",
       "\\textbf{C(neighbourhood)[T.LORETO]}                  &    2136.6801  &     1612.078     &     1.325  &         0.185        &    -1023.546    &     5296.906     \\\\\n",
       "\\textbf{C(neighbourhood)[T.MACIACHINI - MAGGIOLINA]} &    4629.4376  &     1815.911     &     2.549  &         0.011        &     1069.627    &     8189.248     \\\\\n",
       "\\textbf{C(neighbourhood)[T.MAGENTA - S. VITTORE]}    &    6316.4916  &     1786.144     &     3.536  &         0.000        &     2815.035    &     9817.948     \\\\\n",
       "\\textbf{C(neighbourhood)[T.NAVIGLI]}                 &    5457.2576  &     1613.238     &     3.383  &         0.001        &     2294.758    &     8619.757     \\\\\n",
       "\\textbf{C(neighbourhood)[T.PADOVA]}                  &   -1145.4808  &     1810.956     &    -0.633  &         0.527        &    -4695.578    &     2404.616     \\\\\n",
       "\\textbf{C(neighbourhood)[T.PAGANO]}                  &    5275.0445  &     2018.875     &     2.613  &         0.009        &     1317.356    &     9232.733     \\\\\n",
       "\\textbf{C(neighbourhood)[T.PORTA ROMANA]}            &    3237.7757  &     1756.092     &     1.844  &         0.065        &     -204.768    &     6680.319     \\\\\n",
       "\\textbf{C(neighbourhood)[T.S. CRISTOFORO]}           &    3248.0176  &     1945.342     &     1.670  &         0.095        &     -565.521    &     7061.557     \\\\\n",
       "\\textbf{C(neighbourhood)[T.SARPI]}                   &    4416.9512  &     1612.078     &     2.740  &         0.006        &     1256.725    &     7577.177     \\\\\n",
       "\\textbf{C(neighbourhood)[T.SELINUNTE]}               &    5299.3916  &     1976.568     &     2.681  &         0.007        &     1424.640    &     9174.144     \\\\\n",
       "\\textbf{C(neighbourhood)[T.STADERA]}                 &   -1201.8260  &     2018.875     &    -0.595  &         0.552        &    -5159.515    &     2755.863     \\\\\n",
       "\\textbf{C(neighbourhood)[T.TIBALDI]}                 &    1179.6002  &     2012.386     &     0.586  &         0.558        &    -2765.367    &     5124.567     \\\\\n",
       "\\textbf{C(neighbourhood)[T.TICINESE]}                &    6424.1840  &     1622.412     &     3.960  &         0.000        &     3243.698    &     9604.670     \\\\\n",
       "\\textbf{C(neighbourhood)[T.TORTONA]}                 &     849.5866  &     1782.031     &     0.477  &         0.634        &    -2643.807    &     4342.980     \\\\\n",
       "\\textbf{C(neighbourhood)[T.UMBRIA - MOLISE]}         &    -100.0928  &     1861.706     &    -0.054  &         0.957        &    -3749.676    &     3549.490     \\\\\n",
       "\\textbf{C(neighbourhood)[T.VIALE MONZA]}             &    4460.8964  &     1837.329     &     2.428  &         0.015        &      859.099    &     8062.693     \\\\\n",
       "\\textbf{C(neighbourhood)[T.VIGENTINA]}               &    3659.0769  &     1940.522     &     1.886  &         0.059        &     -145.013    &     7463.167     \\\\\n",
       "\\textbf{C(neighbourhood)[T.VILLAPIZZONE]}            &     213.9490  &     1823.632     &     0.117  &         0.907        &    -3360.996    &     3788.894     \\\\\n",
       "\\textbf{C(neighbourhood)[T.WASHINGTON]}              &    1916.9942  &     1826.286     &     1.050  &         0.294        &    -1663.153    &     5497.142     \\\\\n",
       "\\textbf{C(neighbourhood)[T.XXII MARZO]}              &    4209.5836  &     1697.543     &     2.480  &         0.013        &      881.816    &     7537.352     \\\\\n",
       "\\bottomrule\n",
       "\\end{tabular}\n",
       "\\begin{tabular}{lclc}\n",
       "\\textbf{Omnibus:}       & 2948.089 & \\textbf{  Durbin-Watson:     } &     1.814  \\\\\n",
       "\\textbf{Prob(Omnibus):} &   0.000  & \\textbf{  Jarque-Bera (JB):  } & 20603.215  \\\\\n",
       "\\textbf{Skew:}          &   2.133  & \\textbf{  Prob(JB):          } &      0.00  \\\\\n",
       "\\textbf{Kurtosis:}      &  10.774  & \\textbf{  Cond. No.          } &      63.5  \\\\\n",
       "\\bottomrule\n",
       "\\end{tabular}\n",
       "%\\caption{OLS Regression Results}\n",
       "\\end{center}\n",
       "\n",
       "Notes: \\newline\n",
       " [1] Standard Errors assume that the covariance matrix of the errors is correctly specified."
      ],
      "text/plain": [
       "<class 'statsmodels.iolib.summary.Summary'>\n",
       "\"\"\"\n",
       "                            OLS Regression Results                            \n",
       "==============================================================================\n",
       "Dep. Variable:            revenue_ltm   R-squared:                       0.080\n",
       "Model:                            OLS   Adj. R-squared:                  0.074\n",
       "Method:                 Least Squares   F-statistic:                     15.02\n",
       "Date:                Tue, 23 Jan 2024   Prob (F-statistic):           4.01e-87\n",
       "Time:                        08:49:57   Log-Likelihood:                -67732.\n",
       "No. Observations:                6288   AIC:                         1.355e+05\n",
       "Df Residuals:                    6251   BIC:                         1.358e+05\n",
       "Df Model:                          36                                         \n",
       "Covariance Type:            nonrobust                                         \n",
       "===============================================================================================================\n",
       "                                                  coef    std err          t      P>|t|      [0.025      0.975]\n",
       "---------------------------------------------------------------------------------------------------------------\n",
       "Intercept                                    8132.7443   1480.647      5.493      0.000    5230.167     1.1e+04\n",
       "C(neighbourhood)[T.BANDE NERE]                986.5717   1821.019      0.542      0.588   -2583.251    4556.394\n",
       "C(neighbourhood)[T.BRERA]                    8429.5453   1625.605      5.185      0.000    5242.802    1.16e+04\n",
       "C(neighbourhood)[T.BUENOS AIRES - VENEZIA]   5528.6417   1554.092      3.557      0.000    2482.087    8575.196\n",
       "C(neighbourhood)[T.CENTRALE]                 8370.8095   1592.513      5.256      0.000    5248.936    1.15e+04\n",
       "C(neighbourhood)[T.CITTA' STUDI]              178.2822   1754.410      0.102      0.919   -3260.964    3617.529\n",
       "C(neighbourhood)[T.CORSICA]                   220.4466   2053.911      0.107      0.915   -3805.924    4246.817\n",
       "C(neighbourhood)[T.DE ANGELI - MONTE ROSA]   2115.7072   1782.031      1.187      0.235   -1377.686    5609.101\n",
       "C(neighbourhood)[T.DERGANO]                  -175.0175   2018.875     -0.087      0.931   -4132.706    3782.671\n",
       "C(neighbourhood)[T.DUOMO]                    1.258e+04   1581.282      7.955      0.000    9478.986    1.57e+04\n",
       "C(neighbourhood)[T.GARIBALDI REPUBBLICA]     4714.5930   1823.632      2.585      0.010    1139.648    8289.538\n",
       "C(neighbourhood)[T.GHISOLFA]                 2568.7557   1945.342      1.320      0.187   -1244.783    6382.295\n",
       "C(neighbourhood)[T.GIAMBELLINO]               210.4880   1808.534      0.116      0.907   -3334.860    3755.836\n",
       "C(neighbourhood)[T.GRECO]                    -126.8776   2160.746     -0.059      0.953   -4362.682    4108.926\n",
       "C(neighbourhood)[T.GUASTALLA]                5537.8224   1790.372      3.093      0.002    2028.078    9047.567\n",
       "C(neighbourhood)[T.ISOLA]                    3176.5093   1639.957      1.937      0.053     -38.370    6391.388\n",
       "C(neighbourhood)[T.LODI - CORVETTO]          1292.2801   1810.956      0.714      0.476   -2257.817    4842.377\n",
       "C(neighbourhood)[T.LORETO]                   2136.6801   1612.078      1.325      0.185   -1023.546    5296.906\n",
       "C(neighbourhood)[T.MACIACHINI - MAGGIOLINA]  4629.4376   1815.911      2.549      0.011    1069.627    8189.248\n",
       "C(neighbourhood)[T.MAGENTA - S. VITTORE]     6316.4916   1786.144      3.536      0.000    2815.035    9817.948\n",
       "C(neighbourhood)[T.NAVIGLI]                  5457.2576   1613.238      3.383      0.001    2294.758    8619.757\n",
       "C(neighbourhood)[T.PADOVA]                  -1145.4808   1810.956     -0.633      0.527   -4695.578    2404.616\n",
       "C(neighbourhood)[T.PAGANO]                   5275.0445   2018.875      2.613      0.009    1317.356    9232.733\n",
       "C(neighbourhood)[T.PORTA ROMANA]             3237.7757   1756.092      1.844      0.065    -204.768    6680.319\n",
       "C(neighbourhood)[T.S. CRISTOFORO]            3248.0176   1945.342      1.670      0.095    -565.521    7061.557\n",
       "C(neighbourhood)[T.SARPI]                    4416.9512   1612.078      2.740      0.006    1256.725    7577.177\n",
       "C(neighbourhood)[T.SELINUNTE]                5299.3916   1976.568      2.681      0.007    1424.640    9174.144\n",
       "C(neighbourhood)[T.STADERA]                 -1201.8260   2018.875     -0.595      0.552   -5159.515    2755.863\n",
       "C(neighbourhood)[T.TIBALDI]                  1179.6002   2012.386      0.586      0.558   -2765.367    5124.567\n",
       "C(neighbourhood)[T.TICINESE]                 6424.1840   1622.412      3.960      0.000    3243.698    9604.670\n",
       "C(neighbourhood)[T.TORTONA]                   849.5866   1782.031      0.477      0.634   -2643.807    4342.980\n",
       "C(neighbourhood)[T.UMBRIA - MOLISE]          -100.0928   1861.706     -0.054      0.957   -3749.676    3549.490\n",
       "C(neighbourhood)[T.VIALE MONZA]              4460.8964   1837.329      2.428      0.015     859.099    8062.693\n",
       "C(neighbourhood)[T.VIGENTINA]                3659.0769   1940.522      1.886      0.059    -145.013    7463.167\n",
       "C(neighbourhood)[T.VILLAPIZZONE]              213.9490   1823.632      0.117      0.907   -3360.996    3788.894\n",
       "C(neighbourhood)[T.WASHINGTON]               1916.9942   1826.286      1.050      0.294   -1663.153    5497.142\n",
       "C(neighbourhood)[T.XXII MARZO]               4209.5836   1697.543      2.480      0.013     881.816    7537.352\n",
       "==============================================================================\n",
       "Omnibus:                     2948.089   Durbin-Watson:                   1.814\n",
       "Prob(Omnibus):                  0.000   Jarque-Bera (JB):            20603.215\n",
       "Skew:                           2.133   Prob(JB):                         0.00\n",
       "Kurtosis:                      10.774   Cond. No.                         63.5\n",
       "==============================================================================\n",
       "\n",
       "Notes:\n",
       "[1] Standard Errors assume that the covariance matrix of the errors is correctly specified.\n",
       "\"\"\""
      ]
     },
     "execution_count": 48,
     "metadata": {},
     "output_type": "execute_result"
    }
   ],
   "source": [
    "# Creating the stats models' model\n",
    "\n",
    "formula = f'revenue_ltm ~ C(neighbourhood)'\n",
    "\n",
    "model = ols(formula, df).fit()\n",
    "\n",
    "print(f\"Overall model F({model.df_model: .0f},{model.df_resid: .0f}) = {model.fvalue: .3f}, p = {model.f_pvalue: .4f}\")\n",
    "\n",
    "# Creates the ANOVA table\n",
    "res = sm.stats.anova_lm(model, typ= 2)\n",
    "\n",
    "model.summary()\n",
    "\n",
    "# I'll turn the table below into a dataframe. Later, I'll keep\n",
    "# only the neight really significant, p-value < 0.05"
   ]
  },
  {
   "cell_type": "code",
   "execution_count": 49,
   "metadata": {},
   "outputs": [
    {
     "name": "stderr",
     "output_type": "stream",
     "text": [
      "C:\\Users\\matte\\AppData\\Local\\Temp\\ipykernel_1248\\2699189960.py:1: FutureWarning: Passing literal html to 'read_html' is deprecated and will be removed in a future version. To read from a literal string, wrap it in a 'StringIO' object.\n",
      "  neig_results = pd.read_html(model.summary().tables[1].as_html(),\n"
     ]
    },
    {
     "data": {
      "text/html": [
       "<div>\n",
       "<style scoped>\n",
       "    .dataframe tbody tr th:only-of-type {\n",
       "        vertical-align: middle;\n",
       "    }\n",
       "\n",
       "    .dataframe tbody tr th {\n",
       "        vertical-align: top;\n",
       "    }\n",
       "\n",
       "    .dataframe thead th {\n",
       "        text-align: right;\n",
       "    }\n",
       "</style>\n",
       "<table border=\"1\" class=\"dataframe\">\n",
       "  <thead>\n",
       "    <tr style=\"text-align: right;\">\n",
       "      <th></th>\n",
       "      <th>coef</th>\n",
       "      <th>std err</th>\n",
       "      <th>t</th>\n",
       "      <th>P&gt;|t|</th>\n",
       "      <th>[0.025</th>\n",
       "      <th>0.975]</th>\n",
       "    </tr>\n",
       "  </thead>\n",
       "  <tbody>\n",
       "    <tr>\n",
       "      <th>C(neighbourhood)[T.BANDE NERE]</th>\n",
       "      <td>986.571700</td>\n",
       "      <td>1821.019000</td>\n",
       "      <td>0.542000</td>\n",
       "      <td>0.588000</td>\n",
       "      <td>-2583.251000</td>\n",
       "      <td>4556.394000</td>\n",
       "    </tr>\n",
       "    <tr>\n",
       "      <th>C(neighbourhood)[T.BRERA]</th>\n",
       "      <td>8429.545300</td>\n",
       "      <td>1625.605000</td>\n",
       "      <td>5.185000</td>\n",
       "      <td>0.000000</td>\n",
       "      <td>5242.802000</td>\n",
       "      <td>11600.000000</td>\n",
       "    </tr>\n",
       "    <tr>\n",
       "      <th>C(neighbourhood)[T.BUENOS AIRES - VENEZIA]</th>\n",
       "      <td>5528.641700</td>\n",
       "      <td>1554.092000</td>\n",
       "      <td>3.557000</td>\n",
       "      <td>0.000000</td>\n",
       "      <td>2482.087000</td>\n",
       "      <td>8575.196000</td>\n",
       "    </tr>\n",
       "    <tr>\n",
       "      <th>C(neighbourhood)[T.CENTRALE]</th>\n",
       "      <td>8370.809500</td>\n",
       "      <td>1592.513000</td>\n",
       "      <td>5.256000</td>\n",
       "      <td>0.000000</td>\n",
       "      <td>5248.936000</td>\n",
       "      <td>11500.000000</td>\n",
       "    </tr>\n",
       "    <tr>\n",
       "      <th>C(neighbourhood)[T.CITTA' STUDI]</th>\n",
       "      <td>178.282200</td>\n",
       "      <td>1754.410000</td>\n",
       "      <td>0.102000</td>\n",
       "      <td>0.919000</td>\n",
       "      <td>-3260.964000</td>\n",
       "      <td>3617.529000</td>\n",
       "    </tr>\n",
       "  </tbody>\n",
       "</table>\n",
       "</div>"
      ],
      "text/plain": [
       "                                                  coef     std err        t  \\\n",
       "C(neighbourhood)[T.BANDE NERE]              986.571700 1821.019000 0.542000   \n",
       "C(neighbourhood)[T.BRERA]                  8429.545300 1625.605000 5.185000   \n",
       "C(neighbourhood)[T.BUENOS AIRES - VENEZIA] 5528.641700 1554.092000 3.557000   \n",
       "C(neighbourhood)[T.CENTRALE]               8370.809500 1592.513000 5.256000   \n",
       "C(neighbourhood)[T.CITTA' STUDI]            178.282200 1754.410000 0.102000   \n",
       "\n",
       "                                              P>|t|       [0.025       0.975]  \n",
       "C(neighbourhood)[T.BANDE NERE]             0.588000 -2583.251000  4556.394000  \n",
       "C(neighbourhood)[T.BRERA]                  0.000000  5242.802000 11600.000000  \n",
       "C(neighbourhood)[T.BUENOS AIRES - VENEZIA] 0.000000  2482.087000  8575.196000  \n",
       "C(neighbourhood)[T.CENTRALE]               0.000000  5248.936000 11500.000000  \n",
       "C(neighbourhood)[T.CITTA' STUDI]           0.919000 -3260.964000  3617.529000  "
      ]
     },
     "execution_count": 49,
     "metadata": {},
     "output_type": "execute_result"
    }
   ],
   "source": [
    "neig_results = pd.read_html(model.summary().tables[1].as_html(),\n",
    "                       header=0, index_col=0)[0]\n",
    "neig_results.drop(index='Intercept', inplace=True)\n",
    "neig_results.head()"
   ]
  },
  {
   "cell_type": "code",
   "execution_count": 50,
   "metadata": {},
   "outputs": [
    {
     "data": {
      "text/plain": [
       "['C(neighbourhood)[T.BRERA]',\n",
       " 'C(neighbourhood)[T.BUENOS AIRES - VENEZIA]',\n",
       " 'C(neighbourhood)[T.CENTRALE]',\n",
       " 'C(neighbourhood)[T.DUOMO]',\n",
       " 'C(neighbourhood)[T.GARIBALDI REPUBBLICA]',\n",
       " 'C(neighbourhood)[T.GUASTALLA]',\n",
       " 'C(neighbourhood)[T.MACIACHINI - MAGGIOLINA]',\n",
       " 'C(neighbourhood)[T.MAGENTA - S. VITTORE]',\n",
       " 'C(neighbourhood)[T.NAVIGLI]',\n",
       " 'C(neighbourhood)[T.PAGANO]',\n",
       " 'C(neighbourhood)[T.SARPI]',\n",
       " 'C(neighbourhood)[T.SELINUNTE]',\n",
       " 'C(neighbourhood)[T.TICINESE]',\n",
       " 'C(neighbourhood)[T.VIALE MONZA]',\n",
       " 'C(neighbourhood)[T.XXII MARZO]']"
      ]
     },
     "execution_count": 50,
     "metadata": {},
     "output_type": "execute_result"
    }
   ],
   "source": [
    "# Keep only the relevant neig\n",
    "\n",
    "good_neig = neig_results[neig_results['P>|t|']<0.05].index.to_list()\n",
    "good_neig"
   ]
  },
  {
   "cell_type": "code",
   "execution_count": 51,
   "metadata": {},
   "outputs": [],
   "source": [
    "# clean good_neig\n",
    "\n",
    "import re\n",
    "\n",
    "patter = r'T.(.*)\\]'\n",
    "for n in range(len(good_neig)):\n",
    "    name = re.findall(string=good_neig[n],\n",
    "               pattern=patter)[0]\n",
    "    good_neig[n] = name"
   ]
  },
  {
   "cell_type": "markdown",
   "metadata": {},
   "source": [
    "### Train the model using only the significant neighbourhoods"
   ]
  },
  {
   "cell_type": "code",
   "execution_count": 52,
   "metadata": {},
   "outputs": [],
   "source": [
    "# Create df2. A dataframe that has only neigborhoods that\n",
    "# really influence revenue.\n",
    "\n",
    "df_f = df[df['neighbourhood'].isin(good_neig)].copy()\n",
    "\n",
    "df_f['star_group'] = pd.qcut(df_f['stars'], 5)\n",
    "\n",
    "to_predict = 'revenue_ltm'\n",
    "\n",
    "# I deleted bedroom because it was correlated with beds.\n",
    "# That's to avoid multicollinearity\n",
    "\n",
    "num_col_to_keep = ['bed','price','minimum_nights','days_online']\n",
    "\n",
    "cat_col_to_keep = ['neighbourhood','star_group']\n",
    "\n",
    "col_to_keep2 = num_col_to_keep + cat_col_to_keep + [to_predict]\n",
    "df2 = df_f[col_to_keep2]\n",
    "df2 = sm.add_constant(df2)"
   ]
  },
  {
   "cell_type": "code",
   "execution_count": 53,
   "metadata": {},
   "outputs": [
    {
     "data": {
      "text/html": [
       "<table class=\"simpletable\">\n",
       "<caption>OLS Regression Results</caption>\n",
       "<tr>\n",
       "  <th>Dep. Variable:</th>       <td>revenue_ltm</td>   <th>  R-squared:         </th> <td>   0.214</td> \n",
       "</tr>\n",
       "<tr>\n",
       "  <th>Model:</th>                   <td>OLS</td>       <th>  Adj. R-squared:    </th> <td>   0.210</td> \n",
       "</tr>\n",
       "<tr>\n",
       "  <th>Method:</th>             <td>Least Squares</td>  <th>  F-statistic:       </th> <td>   44.86</td> \n",
       "</tr>\n",
       "<tr>\n",
       "  <th>Date:</th>             <td>Tue, 23 Jan 2024</td> <th>  Prob (F-statistic):</th> <td>7.14e-171</td>\n",
       "</tr>\n",
       "<tr>\n",
       "  <th>Time:</th>                 <td>08:49:58</td>     <th>  Log-Likelihood:    </th> <td> -39282.</td> \n",
       "</tr>\n",
       "<tr>\n",
       "  <th>No. Observations:</th>      <td>  3640</td>      <th>  AIC:               </th> <td>7.861e+04</td>\n",
       "</tr>\n",
       "<tr>\n",
       "  <th>Df Residuals:</th>          <td>  3617</td>      <th>  BIC:               </th> <td>7.875e+04</td>\n",
       "</tr>\n",
       "<tr>\n",
       "  <th>Df Model:</th>              <td>    22</td>      <th>                     </th>     <td> </td>    \n",
       "</tr>\n",
       "<tr>\n",
       "  <th>Covariance Type:</th>      <td>nonrobust</td>    <th>                     </th>     <td> </td>    \n",
       "</tr>\n",
       "</table>\n",
       "<table class=\"simpletable\">\n",
       "<tr>\n",
       "                            <td></td>                               <th>coef</th>     <th>std err</th>      <th>t</th>      <th>P>|t|</th>  <th>[0.025</th>    <th>0.975]</th>  \n",
       "</tr>\n",
       "<tr>\n",
       "  <th>Intercept</th>                                             <td> 2059.3131</td> <td>  558.679</td> <td>    3.686</td> <td> 0.000</td> <td>  963.957</td> <td> 3154.670</td>\n",
       "</tr>\n",
       "<tr>\n",
       "  <th>C(neighbourhood)[T.BUENOS AIRES - VENEZIA]</th>            <td>-1476.3258</td> <td>  856.683</td> <td>   -1.723</td> <td> 0.085</td> <td>-3155.956</td> <td>  203.304</td>\n",
       "</tr>\n",
       "<tr>\n",
       "  <th>C(neighbourhood)[T.CENTRALE]</th>                          <td> 1438.9903</td> <td>  930.890</td> <td>    1.546</td> <td> 0.122</td> <td> -386.132</td> <td> 3264.113</td>\n",
       "</tr>\n",
       "<tr>\n",
       "  <th>C(neighbourhood)[T.DUOMO]</th>                             <td> 4440.9548</td> <td>  890.753</td> <td>    4.986</td> <td> 0.000</td> <td> 2694.526</td> <td> 6187.383</td>\n",
       "</tr>\n",
       "<tr>\n",
       "  <th>C(neighbourhood)[T.GARIBALDI REPUBBLICA]</th>              <td>-2697.7577</td> <td> 1288.711</td> <td>   -2.093</td> <td> 0.036</td> <td>-5224.431</td> <td> -171.084</td>\n",
       "</tr>\n",
       "<tr>\n",
       "  <th>C(neighbourhood)[T.GUASTALLA]</th>                         <td>-1839.7498</td> <td> 1237.902</td> <td>   -1.486</td> <td> 0.137</td> <td>-4266.804</td> <td>  587.305</td>\n",
       "</tr>\n",
       "<tr>\n",
       "  <th>C(neighbourhood)[T.MACIACHINI - MAGGIOLINA]</th>           <td>-1762.7504</td> <td> 1304.139</td> <td>   -1.352</td> <td> 0.177</td> <td>-4319.672</td> <td>  794.171</td>\n",
       "</tr>\n",
       "<tr>\n",
       "  <th>C(neighbourhood)[T.MAGENTA - S. VITTORE]</th>              <td>-1177.0620</td> <td> 1233.330</td> <td>   -0.954</td> <td> 0.340</td> <td>-3595.153</td> <td> 1241.029</td>\n",
       "</tr>\n",
       "<tr>\n",
       "  <th>C(neighbourhood)[T.NAVIGLI]</th>                           <td>-1814.2426</td> <td>  963.213</td> <td>   -1.884</td> <td> 0.060</td> <td>-3702.738</td> <td>   74.253</td>\n",
       "</tr>\n",
       "<tr>\n",
       "  <th>C(neighbourhood)[T.PAGANO]</th>                            <td>-2327.4069</td> <td> 1567.745</td> <td>   -1.485</td> <td> 0.138</td> <td>-5401.159</td> <td>  746.345</td>\n",
       "</tr>\n",
       "<tr>\n",
       "  <th>C(neighbourhood)[T.SARPI]</th>                             <td>-1992.7635</td> <td>  963.667</td> <td>   -2.068</td> <td> 0.039</td> <td>-3882.149</td> <td> -103.378</td>\n",
       "</tr>\n",
       "<tr>\n",
       "  <th>C(neighbourhood)[T.SELINUNTE]</th>                         <td>-1131.6727</td> <td> 1526.633</td> <td>   -0.741</td> <td> 0.459</td> <td>-4124.819</td> <td> 1861.474</td>\n",
       "</tr>\n",
       "<tr>\n",
       "  <th>C(neighbourhood)[T.TICINESE]</th>                          <td> -341.1313</td> <td>  977.270</td> <td>   -0.349</td> <td> 0.727</td> <td>-2257.186</td> <td> 1574.923</td>\n",
       "</tr>\n",
       "<tr>\n",
       "  <th>C(neighbourhood)[T.VIALE MONZA]</th>                       <td>-2794.1175</td> <td> 1344.525</td> <td>   -2.078</td> <td> 0.038</td> <td>-5430.220</td> <td> -158.015</td>\n",
       "</tr>\n",
       "<tr>\n",
       "  <th>C(neighbourhood)[T.XXII MARZO]</th>                        <td>-2623.6327</td> <td> 1106.284</td> <td>   -2.372</td> <td> 0.018</td> <td>-4792.636</td> <td> -454.630</td>\n",
       "</tr>\n",
       "<tr>\n",
       "  <th>C(star_group)[T.Interval(4.57, 4.74, closed='right')]</th> <td> 5128.1629</td> <td>  618.454</td> <td>    8.292</td> <td> 0.000</td> <td> 3915.609</td> <td> 6340.717</td>\n",
       "</tr>\n",
       "<tr>\n",
       "  <th>C(star_group)[T.Interval(4.74, 4.83, closed='right')]</th> <td> 6305.1737</td> <td>  624.887</td> <td>   10.090</td> <td> 0.000</td> <td> 5080.009</td> <td> 7530.339</td>\n",
       "</tr>\n",
       "<tr>\n",
       "  <th>C(star_group)[T.Interval(4.83, 4.9, closed='right')]</th>  <td> 8273.0659</td> <td>  630.168</td> <td>   13.128</td> <td> 0.000</td> <td> 7037.545</td> <td> 9508.587</td>\n",
       "</tr>\n",
       "<tr>\n",
       "  <th>C(star_group)[T.Interval(4.9, 4.99, closed='right')]</th>  <td> 1.098e+04</td> <td>  643.342</td> <td>   17.071</td> <td> 0.000</td> <td> 9721.394</td> <td> 1.22e+04</td>\n",
       "</tr>\n",
       "<tr>\n",
       "  <th>const</th>                                                 <td> 2059.3131</td> <td>  558.679</td> <td>    3.686</td> <td> 0.000</td> <td>  963.957</td> <td> 3154.670</td>\n",
       "</tr>\n",
       "<tr>\n",
       "  <th>bed</th>                                                   <td> 1192.7219</td> <td>  240.010</td> <td>    4.969</td> <td> 0.000</td> <td>  722.153</td> <td> 1663.291</td>\n",
       "</tr>\n",
       "<tr>\n",
       "  <th>price</th>                                                 <td>   63.1118</td> <td>    5.767</td> <td>   10.943</td> <td> 0.000</td> <td>   51.804</td> <td>   74.419</td>\n",
       "</tr>\n",
       "<tr>\n",
       "  <th>minimum_nights</th>                                        <td>-3602.8110</td> <td>  243.133</td> <td>  -14.818</td> <td> 0.000</td> <td>-4079.502</td> <td>-3126.120</td>\n",
       "</tr>\n",
       "<tr>\n",
       "  <th>days_online</th>                                           <td>    2.1977</td> <td>    0.200</td> <td>   11.002</td> <td> 0.000</td> <td>    1.806</td> <td>    2.589</td>\n",
       "</tr>\n",
       "</table>\n",
       "<table class=\"simpletable\">\n",
       "<tr>\n",
       "  <th>Omnibus:</th>       <td>893.242</td> <th>  Durbin-Watson:     </th> <td>   1.735</td>\n",
       "</tr>\n",
       "<tr>\n",
       "  <th>Prob(Omnibus):</th> <td> 0.000</td>  <th>  Jarque-Bera (JB):  </th> <td>2396.519</td>\n",
       "</tr>\n",
       "<tr>\n",
       "  <th>Skew:</th>          <td> 1.301</td>  <th>  Prob(JB):          </th> <td>    0.00</td>\n",
       "</tr>\n",
       "<tr>\n",
       "  <th>Kurtosis:</th>      <td> 6.004</td>  <th>  Cond. No.          </th> <td>5.89e+17</td>\n",
       "</tr>\n",
       "</table><br/><br/>Notes:<br/>[1] Standard Errors assume that the covariance matrix of the errors is correctly specified.<br/>[2] The smallest eigenvalue is 2.27e-26. This might indicate that there are<br/>strong multicollinearity problems or that the design matrix is singular."
      ],
      "text/latex": [
       "\\begin{center}\n",
       "\\begin{tabular}{lclc}\n",
       "\\toprule\n",
       "\\textbf{Dep. Variable:}                                         &   revenue\\_ltm   & \\textbf{  R-squared:         } &     0.214   \\\\\n",
       "\\textbf{Model:}                                                 &       OLS        & \\textbf{  Adj. R-squared:    } &     0.210   \\\\\n",
       "\\textbf{Method:}                                                &  Least Squares   & \\textbf{  F-statistic:       } &     44.86   \\\\\n",
       "\\textbf{Date:}                                                  & Tue, 23 Jan 2024 & \\textbf{  Prob (F-statistic):} & 7.14e-171   \\\\\n",
       "\\textbf{Time:}                                                  &     08:49:58     & \\textbf{  Log-Likelihood:    } &   -39282.   \\\\\n",
       "\\textbf{No. Observations:}                                      &        3640      & \\textbf{  AIC:               } & 7.861e+04   \\\\\n",
       "\\textbf{Df Residuals:}                                          &        3617      & \\textbf{  BIC:               } & 7.875e+04   \\\\\n",
       "\\textbf{Df Model:}                                              &          22      & \\textbf{                     } &             \\\\\n",
       "\\textbf{Covariance Type:}                                       &    nonrobust     & \\textbf{                     } &             \\\\\n",
       "\\bottomrule\n",
       "\\end{tabular}\n",
       "\\begin{tabular}{lcccccc}\n",
       "                                                                & \\textbf{coef} & \\textbf{std err} & \\textbf{t} & \\textbf{P$> |$t$|$} & \\textbf{[0.025} & \\textbf{0.975]}  \\\\\n",
       "\\midrule\n",
       "\\textbf{Intercept}                                              &    2059.3131  &      558.679     &     3.686  &         0.000        &      963.957    &     3154.670     \\\\\n",
       "\\textbf{C(neighbourhood)[T.BUENOS AIRES - VENEZIA]}             &   -1476.3258  &      856.683     &    -1.723  &         0.085        &    -3155.956    &      203.304     \\\\\n",
       "\\textbf{C(neighbourhood)[T.CENTRALE]}                           &    1438.9903  &      930.890     &     1.546  &         0.122        &     -386.132    &     3264.113     \\\\\n",
       "\\textbf{C(neighbourhood)[T.DUOMO]}                              &    4440.9548  &      890.753     &     4.986  &         0.000        &     2694.526    &     6187.383     \\\\\n",
       "\\textbf{C(neighbourhood)[T.GARIBALDI REPUBBLICA]}               &   -2697.7577  &     1288.711     &    -2.093  &         0.036        &    -5224.431    &     -171.084     \\\\\n",
       "\\textbf{C(neighbourhood)[T.GUASTALLA]}                          &   -1839.7498  &     1237.902     &    -1.486  &         0.137        &    -4266.804    &      587.305     \\\\\n",
       "\\textbf{C(neighbourhood)[T.MACIACHINI - MAGGIOLINA]}            &   -1762.7504  &     1304.139     &    -1.352  &         0.177        &    -4319.672    &      794.171     \\\\\n",
       "\\textbf{C(neighbourhood)[T.MAGENTA - S. VITTORE]}               &   -1177.0620  &     1233.330     &    -0.954  &         0.340        &    -3595.153    &     1241.029     \\\\\n",
       "\\textbf{C(neighbourhood)[T.NAVIGLI]}                            &   -1814.2426  &      963.213     &    -1.884  &         0.060        &    -3702.738    &       74.253     \\\\\n",
       "\\textbf{C(neighbourhood)[T.PAGANO]}                             &   -2327.4069  &     1567.745     &    -1.485  &         0.138        &    -5401.159    &      746.345     \\\\\n",
       "\\textbf{C(neighbourhood)[T.SARPI]}                              &   -1992.7635  &      963.667     &    -2.068  &         0.039        &    -3882.149    &     -103.378     \\\\\n",
       "\\textbf{C(neighbourhood)[T.SELINUNTE]}                          &   -1131.6727  &     1526.633     &    -0.741  &         0.459        &    -4124.819    &     1861.474     \\\\\n",
       "\\textbf{C(neighbourhood)[T.TICINESE]}                           &    -341.1313  &      977.270     &    -0.349  &         0.727        &    -2257.186    &     1574.923     \\\\\n",
       "\\textbf{C(neighbourhood)[T.VIALE MONZA]}                        &   -2794.1175  &     1344.525     &    -2.078  &         0.038        &    -5430.220    &     -158.015     \\\\\n",
       "\\textbf{C(neighbourhood)[T.XXII MARZO]}                         &   -2623.6327  &     1106.284     &    -2.372  &         0.018        &    -4792.636    &     -454.630     \\\\\n",
       "\\textbf{C(star\\_group)[T.Interval(4.57, 4.74, closed='right')]} &    5128.1629  &      618.454     &     8.292  &         0.000        &     3915.609    &     6340.717     \\\\\n",
       "\\textbf{C(star\\_group)[T.Interval(4.74, 4.83, closed='right')]} &    6305.1737  &      624.887     &    10.090  &         0.000        &     5080.009    &     7530.339     \\\\\n",
       "\\textbf{C(star\\_group)[T.Interval(4.83, 4.9, closed='right')]}  &    8273.0659  &      630.168     &    13.128  &         0.000        &     7037.545    &     9508.587     \\\\\n",
       "\\textbf{C(star\\_group)[T.Interval(4.9, 4.99, closed='right')]}  &    1.098e+04  &      643.342     &    17.071  &         0.000        &     9721.394    &     1.22e+04     \\\\\n",
       "\\textbf{const}                                                  &    2059.3131  &      558.679     &     3.686  &         0.000        &      963.957    &     3154.670     \\\\\n",
       "\\textbf{bed}                                                    &    1192.7219  &      240.010     &     4.969  &         0.000        &      722.153    &     1663.291     \\\\\n",
       "\\textbf{price}                                                  &      63.1118  &        5.767     &    10.943  &         0.000        &       51.804    &       74.419     \\\\\n",
       "\\textbf{minimum\\_nights}                                        &   -3602.8110  &      243.133     &   -14.818  &         0.000        &    -4079.502    &    -3126.120     \\\\\n",
       "\\textbf{days\\_online}                                           &       2.1977  &        0.200     &    11.002  &         0.000        &        1.806    &        2.589     \\\\\n",
       "\\bottomrule\n",
       "\\end{tabular}\n",
       "\\begin{tabular}{lclc}\n",
       "\\textbf{Omnibus:}       & 893.242 & \\textbf{  Durbin-Watson:     } &    1.735  \\\\\n",
       "\\textbf{Prob(Omnibus):} &   0.000 & \\textbf{  Jarque-Bera (JB):  } & 2396.519  \\\\\n",
       "\\textbf{Skew:}          &   1.301 & \\textbf{  Prob(JB):          } &     0.00  \\\\\n",
       "\\textbf{Kurtosis:}      &   6.004 & \\textbf{  Cond. No.          } & 5.89e+17  \\\\\n",
       "\\bottomrule\n",
       "\\end{tabular}\n",
       "%\\caption{OLS Regression Results}\n",
       "\\end{center}\n",
       "\n",
       "Notes: \\newline\n",
       " [1] Standard Errors assume that the covariance matrix of the errors is correctly specified. \\newline\n",
       " [2] The smallest eigenvalue is 2.27e-26. This might indicate that there are \\newline\n",
       " strong multicollinearity problems or that the design matrix is singular."
      ],
      "text/plain": [
       "<class 'statsmodels.iolib.summary.Summary'>\n",
       "\"\"\"\n",
       "                            OLS Regression Results                            \n",
       "==============================================================================\n",
       "Dep. Variable:            revenue_ltm   R-squared:                       0.214\n",
       "Model:                            OLS   Adj. R-squared:                  0.210\n",
       "Method:                 Least Squares   F-statistic:                     44.86\n",
       "Date:                Tue, 23 Jan 2024   Prob (F-statistic):          7.14e-171\n",
       "Time:                        08:49:58   Log-Likelihood:                -39282.\n",
       "No. Observations:                3640   AIC:                         7.861e+04\n",
       "Df Residuals:                    3617   BIC:                         7.875e+04\n",
       "Df Model:                          22                                         \n",
       "Covariance Type:            nonrobust                                         \n",
       "=========================================================================================================================\n",
       "                                                            coef    std err          t      P>|t|      [0.025      0.975]\n",
       "-------------------------------------------------------------------------------------------------------------------------\n",
       "Intercept                                              2059.3131    558.679      3.686      0.000     963.957    3154.670\n",
       "C(neighbourhood)[T.BUENOS AIRES - VENEZIA]            -1476.3258    856.683     -1.723      0.085   -3155.956     203.304\n",
       "C(neighbourhood)[T.CENTRALE]                           1438.9903    930.890      1.546      0.122    -386.132    3264.113\n",
       "C(neighbourhood)[T.DUOMO]                              4440.9548    890.753      4.986      0.000    2694.526    6187.383\n",
       "C(neighbourhood)[T.GARIBALDI REPUBBLICA]              -2697.7577   1288.711     -2.093      0.036   -5224.431    -171.084\n",
       "C(neighbourhood)[T.GUASTALLA]                         -1839.7498   1237.902     -1.486      0.137   -4266.804     587.305\n",
       "C(neighbourhood)[T.MACIACHINI - MAGGIOLINA]           -1762.7504   1304.139     -1.352      0.177   -4319.672     794.171\n",
       "C(neighbourhood)[T.MAGENTA - S. VITTORE]              -1177.0620   1233.330     -0.954      0.340   -3595.153    1241.029\n",
       "C(neighbourhood)[T.NAVIGLI]                           -1814.2426    963.213     -1.884      0.060   -3702.738      74.253\n",
       "C(neighbourhood)[T.PAGANO]                            -2327.4069   1567.745     -1.485      0.138   -5401.159     746.345\n",
       "C(neighbourhood)[T.SARPI]                             -1992.7635    963.667     -2.068      0.039   -3882.149    -103.378\n",
       "C(neighbourhood)[T.SELINUNTE]                         -1131.6727   1526.633     -0.741      0.459   -4124.819    1861.474\n",
       "C(neighbourhood)[T.TICINESE]                           -341.1313    977.270     -0.349      0.727   -2257.186    1574.923\n",
       "C(neighbourhood)[T.VIALE MONZA]                       -2794.1175   1344.525     -2.078      0.038   -5430.220    -158.015\n",
       "C(neighbourhood)[T.XXII MARZO]                        -2623.6327   1106.284     -2.372      0.018   -4792.636    -454.630\n",
       "C(star_group)[T.Interval(4.57, 4.74, closed='right')]  5128.1629    618.454      8.292      0.000    3915.609    6340.717\n",
       "C(star_group)[T.Interval(4.74, 4.83, closed='right')]  6305.1737    624.887     10.090      0.000    5080.009    7530.339\n",
       "C(star_group)[T.Interval(4.83, 4.9, closed='right')]   8273.0659    630.168     13.128      0.000    7037.545    9508.587\n",
       "C(star_group)[T.Interval(4.9, 4.99, closed='right')]   1.098e+04    643.342     17.071      0.000    9721.394    1.22e+04\n",
       "const                                                  2059.3131    558.679      3.686      0.000     963.957    3154.670\n",
       "bed                                                    1192.7219    240.010      4.969      0.000     722.153    1663.291\n",
       "price                                                    63.1118      5.767     10.943      0.000      51.804      74.419\n",
       "minimum_nights                                        -3602.8110    243.133    -14.818      0.000   -4079.502   -3126.120\n",
       "days_online                                               2.1977      0.200     11.002      0.000       1.806       2.589\n",
       "==============================================================================\n",
       "Omnibus:                      893.242   Durbin-Watson:                   1.735\n",
       "Prob(Omnibus):                  0.000   Jarque-Bera (JB):             2396.519\n",
       "Skew:                           1.301   Prob(JB):                         0.00\n",
       "Kurtosis:                       6.004   Cond. No.                     5.89e+17\n",
       "==============================================================================\n",
       "\n",
       "Notes:\n",
       "[1] Standard Errors assume that the covariance matrix of the errors is correctly specified.\n",
       "[2] The smallest eigenvalue is 2.27e-26. This might indicate that there are\n",
       "strong multicollinearity problems or that the design matrix is singular.\n",
       "\"\"\""
      ]
     },
     "execution_count": 53,
     "metadata": {},
     "output_type": "execute_result"
    }
   ],
   "source": [
    "formula = f'{to_predict} ~ (const)'\n",
    "\n",
    "for col in num_col_to_keep:\n",
    "    formula += f' + {col}'\n",
    "\n",
    "for col in cat_col_to_keep:\n",
    "    formula += f' + C({col})'\n",
    "\n",
    "model_f = ols(formula, df2).fit()\n",
    "model_f.summary()"
   ]
  },
  {
   "cell_type": "code",
   "execution_count": 93,
   "metadata": {},
   "outputs": [],
   "source": [
    "# Export for Tableau\n",
    "\n",
    "df_f.iloc[:,:22].to_csv(r'C:\\Users\\matte\\OneDrive\\Desktop\\GitHub\\data\\Airbnb\\for_talbeau\\listings.csv',\n",
    "                        index=None)\n"
   ]
  },
  {
   "cell_type": "code",
   "execution_count": 54,
   "metadata": {},
   "outputs": [],
   "source": [
    "# one-hot encoding star group\n",
    "\n",
    "dummies = pd.get_dummies(df_f['star_group']).astype('float')\n",
    "df_f = pd.concat([df_f, dummies], axis='columns')"
   ]
  },
  {
   "cell_type": "markdown",
   "metadata": {},
   "source": [
    "### Check for multicollineariy"
   ]
  },
  {
   "cell_type": "code",
   "execution_count": 55,
   "metadata": {},
   "outputs": [
    {
     "data": {
      "text/html": [
       "<div>\n",
       "<style scoped>\n",
       "    .dataframe tbody tr th:only-of-type {\n",
       "        vertical-align: middle;\n",
       "    }\n",
       "\n",
       "    .dataframe tbody tr th {\n",
       "        vertical-align: top;\n",
       "    }\n",
       "\n",
       "    .dataframe thead th {\n",
       "        text-align: right;\n",
       "    }\n",
       "</style>\n",
       "<table border=\"1\" class=\"dataframe\">\n",
       "  <thead>\n",
       "    <tr style=\"text-align: right;\">\n",
       "      <th></th>\n",
       "      <th>Feature</th>\n",
       "      <th>VIF</th>\n",
       "    </tr>\n",
       "  </thead>\n",
       "  <tbody>\n",
       "    <tr>\n",
       "      <th>0</th>\n",
       "      <td>BUENOS AIRES - VENEZIA</td>\n",
       "      <td>2.028437</td>\n",
       "    </tr>\n",
       "    <tr>\n",
       "      <th>1</th>\n",
       "      <td>CENTRALE</td>\n",
       "      <td>1.637414</td>\n",
       "    </tr>\n",
       "    <tr>\n",
       "      <th>2</th>\n",
       "      <td>DUOMO</td>\n",
       "      <td>1.870229</td>\n",
       "    </tr>\n",
       "    <tr>\n",
       "      <th>3</th>\n",
       "      <td>GARIBALDI REPUBBLICA</td>\n",
       "      <td>1.202925</td>\n",
       "    </tr>\n",
       "    <tr>\n",
       "      <th>4</th>\n",
       "      <td>GUASTALLA</td>\n",
       "      <td>1.234582</td>\n",
       "    </tr>\n",
       "    <tr>\n",
       "      <th>5</th>\n",
       "      <td>MACIACHINI - MAGGIOLINA</td>\n",
       "      <td>1.214511</td>\n",
       "    </tr>\n",
       "    <tr>\n",
       "      <th>6</th>\n",
       "      <td>MAGENTA - S. VITTORE</td>\n",
       "      <td>1.239495</td>\n",
       "    </tr>\n",
       "    <tr>\n",
       "      <th>7</th>\n",
       "      <td>NAVIGLI</td>\n",
       "      <td>1.558033</td>\n",
       "    </tr>\n",
       "    <tr>\n",
       "      <th>8</th>\n",
       "      <td>PAGANO</td>\n",
       "      <td>1.138162</td>\n",
       "    </tr>\n",
       "    <tr>\n",
       "      <th>9</th>\n",
       "      <td>SARPI</td>\n",
       "      <td>1.552215</td>\n",
       "    </tr>\n",
       "    <tr>\n",
       "      <th>10</th>\n",
       "      <td>SELINUNTE</td>\n",
       "      <td>1.131372</td>\n",
       "    </tr>\n",
       "    <tr>\n",
       "      <th>11</th>\n",
       "      <td>TICINESE</td>\n",
       "      <td>1.526034</td>\n",
       "    </tr>\n",
       "    <tr>\n",
       "      <th>12</th>\n",
       "      <td>VIALE MONZA</td>\n",
       "      <td>1.218400</td>\n",
       "    </tr>\n",
       "    <tr>\n",
       "      <th>13</th>\n",
       "      <td>XXII MARZO</td>\n",
       "      <td>1.326665</td>\n",
       "    </tr>\n",
       "    <tr>\n",
       "      <th>14</th>\n",
       "      <td>(4.57, 4.74]</td>\n",
       "      <td>1.936947</td>\n",
       "    </tr>\n",
       "    <tr>\n",
       "      <th>15</th>\n",
       "      <td>(4.74, 4.83]</td>\n",
       "      <td>1.986903</td>\n",
       "    </tr>\n",
       "    <tr>\n",
       "      <th>16</th>\n",
       "      <td>(4.83, 4.9]</td>\n",
       "      <td>2.005308</td>\n",
       "    </tr>\n",
       "    <tr>\n",
       "      <th>17</th>\n",
       "      <td>(4.9, 4.99]</td>\n",
       "      <td>2.007747</td>\n",
       "    </tr>\n",
       "    <tr>\n",
       "      <th>18</th>\n",
       "      <td>bed</td>\n",
       "      <td>5.596632</td>\n",
       "    </tr>\n",
       "    <tr>\n",
       "      <th>19</th>\n",
       "      <td>price</td>\n",
       "      <td>8.581236</td>\n",
       "    </tr>\n",
       "    <tr>\n",
       "      <th>20</th>\n",
       "      <td>minimum_nights</td>\n",
       "      <td>4.724687</td>\n",
       "    </tr>\n",
       "  </tbody>\n",
       "</table>\n",
       "</div>"
      ],
      "text/plain": [
       "                    Feature      VIF\n",
       "0    BUENOS AIRES - VENEZIA 2.028437\n",
       "1                  CENTRALE 1.637414\n",
       "2                     DUOMO 1.870229\n",
       "3      GARIBALDI REPUBBLICA 1.202925\n",
       "4                 GUASTALLA 1.234582\n",
       "5   MACIACHINI - MAGGIOLINA 1.214511\n",
       "6      MAGENTA - S. VITTORE 1.239495\n",
       "7                   NAVIGLI 1.558033\n",
       "8                    PAGANO 1.138162\n",
       "9                     SARPI 1.552215\n",
       "10                SELINUNTE 1.131372\n",
       "11                 TICINESE 1.526034\n",
       "12              VIALE MONZA 1.218400\n",
       "13               XXII MARZO 1.326665\n",
       "14             (4.57, 4.74] 1.936947\n",
       "15             (4.74, 4.83] 1.986903\n",
       "16              (4.83, 4.9] 2.005308\n",
       "17              (4.9, 4.99] 2.007747\n",
       "18                      bed 5.596632\n",
       "19                    price 8.581236\n",
       "20           minimum_nights 4.724687"
      ]
     },
     "execution_count": 55,
     "metadata": {},
     "output_type": "execute_result"
    }
   ],
   "source": [
    "from statsmodels.stats.outliers_influence import variance_inflation_factor\n",
    "\n",
    "cat_col_vif = good_neig[1:] + dummies.columns.to_list()[1:]\n",
    "col_vif = cat_col_vif + num_col_to_keep[:-1] # to delete 'const'\n",
    "\n",
    "V = df_f[col_vif]\n",
    "vif_data = pd.DataFrame()\n",
    "vif_data[\"Feature\"] = V.columns\n",
    "vif_data[\"VIF\"] = [variance_inflation_factor(V.values, i) for i in range(V.shape[1])]\n",
    "vif_data"
   ]
  },
  {
   "cell_type": "code",
   "execution_count": 56,
   "metadata": {},
   "outputs": [
    {
     "name": "stderr",
     "output_type": "stream",
     "text": [
      "c:\\Users\\matte\\anaconda3\\Lib\\site-packages\\seaborn\\_oldcore.py:1498: FutureWarning: is_categorical_dtype is deprecated and will be removed in a future version. Use isinstance(dtype, CategoricalDtype) instead\n",
      "  if pd.api.types.is_categorical_dtype(vector):\n",
      "c:\\Users\\matte\\anaconda3\\Lib\\site-packages\\seaborn\\_oldcore.py:1119: FutureWarning: use_inf_as_na option is deprecated and will be removed in a future version. Convert inf values to NaN before operating instead.\n",
      "  with pd.option_context('mode.use_inf_as_na', True):\n",
      "c:\\Users\\matte\\anaconda3\\Lib\\site-packages\\seaborn\\_oldcore.py:1498: FutureWarning: is_categorical_dtype is deprecated and will be removed in a future version. Use isinstance(dtype, CategoricalDtype) instead\n",
      "  if pd.api.types.is_categorical_dtype(vector):\n",
      "c:\\Users\\matte\\anaconda3\\Lib\\site-packages\\seaborn\\_oldcore.py:1119: FutureWarning: use_inf_as_na option is deprecated and will be removed in a future version. Convert inf values to NaN before operating instead.\n",
      "  with pd.option_context('mode.use_inf_as_na', True):\n"
     ]
    },
    {
     "data": {
      "image/png": "[encoded data removed]",
      "text/plain": [
       "<Figure size 640x480 with 1 Axes>"
      ]
     },
     "metadata": {},
     "output_type": "display_data"
    }
   ],
   "source": [
    "yhat2 = model_f.predict(df2.drop(columns='revenue_ltm'))\n",
    "\n",
    "ax1 = sns.kdeplot(df2['revenue_ltm'], color=\"r\", label=\"Actual Value\")\n",
    "sns.kdeplot(yhat2, color=\"b\", label=\"Fitted Values\" , ax=ax1)\n",
    "\n",
    "plt.title('Actual vs Fitted Values for Revenue')\n",
    "plt.xlabel('Revenue')\n",
    "plt.ylabel('Proportion of Listings')\n",
    "plt.legend(['Actual Value', 'Predicted Value'])\n",
    "plt.show()"
   ]
  },
  {
   "cell_type": "code",
   "execution_count": 118,
   "metadata": {},
   "outputs": [
    {
     "name": "stderr",
     "output_type": "stream",
     "text": [
      "c:\\Users\\matte\\anaconda3\\Lib\\site-packages\\sklearn\\base.py:457: UserWarning: X has feature names, but KernelDensity was fitted without feature names\n",
      "  warnings.warn(\n"
     ]
    },
    {
     "data": {
      "image/png": "[encoded data removed]",
      "text/plain": [
       "<Figure size 1600x900 with 1 Axes>"
      ]
     },
     "metadata": {},
     "output_type": "display_data"
    }
   ],
   "source": [
    "x_pred = pd.DataFrame(data={'revenue_ltm':np.linspace(df2['revenue_ltm'].min(),\n",
    "                                             df2['revenue_ltm'].max(), 1000)})\n",
    "\n",
    "kde_pred = KernelDensity(bandwidth=1100.2, kernel='gaussian')\n",
    "kde_pred.fit(yhat2.to_frame())\n",
    "\n",
    "logprob_pred = kde_pred.score_samples(x_pred)\n",
    "\n",
    "fig, ax = plt.subplots(figsize=(16,9))\n",
    "ax.fill_between(x_pred['revenue_ltm'],\n",
    "                np.exp(logprob_pred), alpha=1, color='steelblue');"
   ]
  },
  {
   "cell_type": "code",
   "execution_count": 113,
   "metadata": {},
   "outputs": [
    {
     "data": {
      "image/png": "[encoded data removed]",
      "text/plain": [
       "<Figure size 1600x900 with 1 Axes>"
      ]
     },
     "metadata": {},
     "output_type": "display_data"
    }
   ],
   "source": [
    "x_actual = pd.DataFrame(data={'revenue_ltm':np.linspace(df2['revenue_ltm'].min(),\n",
    "                                             df2['revenue_ltm'].max(), 1000)})\n",
    "\n",
    "kde_actual = KernelDensity(bandwidth=1700.2, kernel='gaussian')\n",
    "kde_actual.fit(df2[['revenue_ltm']])\n",
    "\n",
    "logprob_actual = kde_actual.score_samples(x_actual)\n",
    "\n",
    "fig, ax = plt.subplots(figsize=(16,9))\n",
    "ax.fill_between(x_actual['revenue_ltm'],\n",
    "                np.exp(logprob_actual), alpha=1, color='steelblue');"
   ]
  },
  {
   "cell_type": "code",
   "execution_count": 120,
   "metadata": {},
   "outputs": [],
   "source": [
    "# Export for Tableau\n",
    "\n",
    "model_perf = pd.DataFrame({'revenue_pred':x_pred['revenue_ltm'],\n",
    "                             'Density_pred':np.exp(logprob_pred),\n",
    "                             'revenue_act':x_actual['revenue_ltm'],\n",
    "                             'Density_act':np.exp(logprob_actual)})\n",
    "\n",
    "\n",
    "model_perf.to_csv(r'C:\\Users\\matte\\OneDrive\\Desktop\\GitHub\\data\\Airbnb\\for_talbeau\\model_perf.csv',\n",
    "                    index=None)"
   ]
  },
  {
   "cell_type": "markdown",
   "metadata": {},
   "source": [
    "### Plot findings"
   ]
  },
  {
   "cell_type": "code",
   "execution_count": 138,
   "metadata": {},
   "outputs": [
    {
     "name": "stderr",
     "output_type": "stream",
     "text": [
      "C:\\Users\\matte\\AppData\\Local\\Temp\\ipykernel_1248\\3650920172.py:3: FutureWarning: Passing literal html to 'read_html' is deprecated and will be removed in a future version. To read from a literal string, wrap it in a 'StringIO' object.\n",
      "  results = pd.read_html(model_f.summary().tables[1].as_html(),\n"
     ]
    }
   ],
   "source": [
    "# Create a dataframe with the confidence intervals of the model\n",
    "\n",
    "results = pd.read_html(model_f.summary().tables[1].as_html(),\n",
    "                       header=0, index_col=0)[0]\n",
    "results.drop(index=['Intercept','const'], inplace=True)"
   ]
  },
  {
   "cell_type": "code",
   "execution_count": 139,
   "metadata": {},
   "outputs": [],
   "source": [
    "# Rename the index of the dataframe\n",
    "\n",
    "for name in results.index.to_list()[1:]:\n",
    "    if name[0] == 'C':\n",
    "        try:\n",
    "            to_find = re.findall(string=name,\n",
    "                                pattern=r'T\\.(.*)\\]')[0]\n",
    "\n",
    "            found = df.filter(like=to_find[:4]).columns.to_list()[0]\n",
    "            results.rename(index={name:found}, inplace=True)\n",
    "        except:\n",
    "            pass\n",
    "\n",
    "results.rename(index={'C(neighbourhood)[T.BUENOS AIRES - VENEZIA]': 'BUENOS AIRES - VENEZIA'},\n",
    "               inplace=True)\n",
    "\n",
    "results.reset_index(names='name', inplace=True)"
   ]
  },
  {
   "cell_type": "code",
   "execution_count": 140,
   "metadata": {},
   "outputs": [
    {
     "data": {
      "text/html": [
       "<div>\n",
       "<style scoped>\n",
       "    .dataframe tbody tr th:only-of-type {\n",
       "        vertical-align: middle;\n",
       "    }\n",
       "\n",
       "    .dataframe tbody tr th {\n",
       "        vertical-align: top;\n",
       "    }\n",
       "\n",
       "    .dataframe thead th {\n",
       "        text-align: right;\n",
       "    }\n",
       "</style>\n",
       "<table border=\"1\" class=\"dataframe\">\n",
       "  <thead>\n",
       "    <tr style=\"text-align: right;\">\n",
       "      <th></th>\n",
       "      <th>name</th>\n",
       "      <th>coef</th>\n",
       "      <th>std err</th>\n",
       "      <th>t</th>\n",
       "      <th>P&gt;|t|</th>\n",
       "      <th>[0.025</th>\n",
       "      <th>0.975]</th>\n",
       "    </tr>\n",
       "  </thead>\n",
       "  <tbody>\n",
       "    <tr>\n",
       "      <th>0</th>\n",
       "      <td>BUENOS AIRES - VENEZIA</td>\n",
       "      <td>-1476.325800</td>\n",
       "      <td>856.683000</td>\n",
       "      <td>-1.723000</td>\n",
       "      <td>0.085000</td>\n",
       "      <td>-3155.956000</td>\n",
       "      <td>203.304000</td>\n",
       "    </tr>\n",
       "    <tr>\n",
       "      <th>1</th>\n",
       "      <td>CENTRALE</td>\n",
       "      <td>1438.990300</td>\n",
       "      <td>930.890000</td>\n",
       "      <td>1.546000</td>\n",
       "      <td>0.122000</td>\n",
       "      <td>-386.132000</td>\n",
       "      <td>3264.113000</td>\n",
       "    </tr>\n",
       "    <tr>\n",
       "      <th>2</th>\n",
       "      <td>DUOMO</td>\n",
       "      <td>4440.954800</td>\n",
       "      <td>890.753000</td>\n",
       "      <td>4.986000</td>\n",
       "      <td>0.000000</td>\n",
       "      <td>2694.526000</td>\n",
       "      <td>6187.383000</td>\n",
       "    </tr>\n",
       "    <tr>\n",
       "      <th>3</th>\n",
       "      <td>GARIBALDI REPUBBLICA</td>\n",
       "      <td>-2697.757700</td>\n",
       "      <td>1288.711000</td>\n",
       "      <td>-2.093000</td>\n",
       "      <td>0.036000</td>\n",
       "      <td>-5224.431000</td>\n",
       "      <td>-171.084000</td>\n",
       "    </tr>\n",
       "    <tr>\n",
       "      <th>4</th>\n",
       "      <td>GUASTALLA</td>\n",
       "      <td>-1839.749800</td>\n",
       "      <td>1237.902000</td>\n",
       "      <td>-1.486000</td>\n",
       "      <td>0.137000</td>\n",
       "      <td>-4266.804000</td>\n",
       "      <td>587.305000</td>\n",
       "    </tr>\n",
       "    <tr>\n",
       "      <th>5</th>\n",
       "      <td>MACIACHINI - MAGGIOLINA</td>\n",
       "      <td>-1762.750400</td>\n",
       "      <td>1304.139000</td>\n",
       "      <td>-1.352000</td>\n",
       "      <td>0.177000</td>\n",
       "      <td>-4319.672000</td>\n",
       "      <td>794.171000</td>\n",
       "    </tr>\n",
       "    <tr>\n",
       "      <th>6</th>\n",
       "      <td>MAGENTA - S. VITTORE</td>\n",
       "      <td>-1177.062000</td>\n",
       "      <td>1233.330000</td>\n",
       "      <td>-0.954000</td>\n",
       "      <td>0.340000</td>\n",
       "      <td>-3595.153000</td>\n",
       "      <td>1241.029000</td>\n",
       "    </tr>\n",
       "    <tr>\n",
       "      <th>7</th>\n",
       "      <td>NAVIGLI</td>\n",
       "      <td>-1814.242600</td>\n",
       "      <td>963.213000</td>\n",
       "      <td>-1.884000</td>\n",
       "      <td>0.060000</td>\n",
       "      <td>-3702.738000</td>\n",
       "      <td>74.253000</td>\n",
       "    </tr>\n",
       "    <tr>\n",
       "      <th>8</th>\n",
       "      <td>PAGANO</td>\n",
       "      <td>-2327.406900</td>\n",
       "      <td>1567.745000</td>\n",
       "      <td>-1.485000</td>\n",
       "      <td>0.138000</td>\n",
       "      <td>-5401.159000</td>\n",
       "      <td>746.345000</td>\n",
       "    </tr>\n",
       "    <tr>\n",
       "      <th>9</th>\n",
       "      <td>SARPI</td>\n",
       "      <td>-1992.763500</td>\n",
       "      <td>963.667000</td>\n",
       "      <td>-2.068000</td>\n",
       "      <td>0.039000</td>\n",
       "      <td>-3882.149000</td>\n",
       "      <td>-103.378000</td>\n",
       "    </tr>\n",
       "    <tr>\n",
       "      <th>10</th>\n",
       "      <td>SELINUNTE</td>\n",
       "      <td>-1131.672700</td>\n",
       "      <td>1526.633000</td>\n",
       "      <td>-0.741000</td>\n",
       "      <td>0.459000</td>\n",
       "      <td>-4124.819000</td>\n",
       "      <td>1861.474000</td>\n",
       "    </tr>\n",
       "    <tr>\n",
       "      <th>11</th>\n",
       "      <td>TICINESE</td>\n",
       "      <td>-341.131300</td>\n",
       "      <td>977.270000</td>\n",
       "      <td>-0.349000</td>\n",
       "      <td>0.727000</td>\n",
       "      <td>-2257.186000</td>\n",
       "      <td>1574.923000</td>\n",
       "    </tr>\n",
       "    <tr>\n",
       "      <th>12</th>\n",
       "      <td>VIALE MONZA</td>\n",
       "      <td>-2794.117500</td>\n",
       "      <td>1344.525000</td>\n",
       "      <td>-2.078000</td>\n",
       "      <td>0.038000</td>\n",
       "      <td>-5430.220000</td>\n",
       "      <td>-158.015000</td>\n",
       "    </tr>\n",
       "    <tr>\n",
       "      <th>13</th>\n",
       "      <td>XXII MARZO</td>\n",
       "      <td>-2623.632700</td>\n",
       "      <td>1106.284000</td>\n",
       "      <td>-2.372000</td>\n",
       "      <td>0.018000</td>\n",
       "      <td>-4792.636000</td>\n",
       "      <td>-454.630000</td>\n",
       "    </tr>\n",
       "    <tr>\n",
       "      <th>14</th>\n",
       "      <td>C(star_group)[T.Interval(4.57, 4.74, closed='r...</td>\n",
       "      <td>5128.162900</td>\n",
       "      <td>618.454000</td>\n",
       "      <td>8.292000</td>\n",
       "      <td>0.000000</td>\n",
       "      <td>3915.609000</td>\n",
       "      <td>6340.717000</td>\n",
       "    </tr>\n",
       "    <tr>\n",
       "      <th>15</th>\n",
       "      <td>C(star_group)[T.Interval(4.74, 4.83, closed='r...</td>\n",
       "      <td>6305.173700</td>\n",
       "      <td>624.887000</td>\n",
       "      <td>10.090000</td>\n",
       "      <td>0.000000</td>\n",
       "      <td>5080.009000</td>\n",
       "      <td>7530.339000</td>\n",
       "    </tr>\n",
       "    <tr>\n",
       "      <th>16</th>\n",
       "      <td>C(star_group)[T.Interval(4.83, 4.9, closed='ri...</td>\n",
       "      <td>8273.065900</td>\n",
       "      <td>630.168000</td>\n",
       "      <td>13.128000</td>\n",
       "      <td>0.000000</td>\n",
       "      <td>7037.545000</td>\n",
       "      <td>9508.587000</td>\n",
       "    </tr>\n",
       "    <tr>\n",
       "      <th>17</th>\n",
       "      <td>C(star_group)[T.Interval(4.9, 4.99, closed='ri...</td>\n",
       "      <td>10980.000000</td>\n",
       "      <td>643.342000</td>\n",
       "      <td>17.071000</td>\n",
       "      <td>0.000000</td>\n",
       "      <td>9721.394000</td>\n",
       "      <td>12200.000000</td>\n",
       "    </tr>\n",
       "    <tr>\n",
       "      <th>18</th>\n",
       "      <td>bed</td>\n",
       "      <td>1192.721900</td>\n",
       "      <td>240.010000</td>\n",
       "      <td>4.969000</td>\n",
       "      <td>0.000000</td>\n",
       "      <td>722.153000</td>\n",
       "      <td>1663.291000</td>\n",
       "    </tr>\n",
       "    <tr>\n",
       "      <th>19</th>\n",
       "      <td>price</td>\n",
       "      <td>63.111800</td>\n",
       "      <td>5.767000</td>\n",
       "      <td>10.943000</td>\n",
       "      <td>0.000000</td>\n",
       "      <td>51.804000</td>\n",
       "      <td>74.419000</td>\n",
       "    </tr>\n",
       "    <tr>\n",
       "      <th>20</th>\n",
       "      <td>minimum_nights</td>\n",
       "      <td>-3602.811000</td>\n",
       "      <td>243.133000</td>\n",
       "      <td>-14.818000</td>\n",
       "      <td>0.000000</td>\n",
       "      <td>-4079.502000</td>\n",
       "      <td>-3126.120000</td>\n",
       "    </tr>\n",
       "    <tr>\n",
       "      <th>21</th>\n",
       "      <td>days_online</td>\n",
       "      <td>2.197700</td>\n",
       "      <td>0.200000</td>\n",
       "      <td>11.002000</td>\n",
       "      <td>0.000000</td>\n",
       "      <td>1.806000</td>\n",
       "      <td>2.589000</td>\n",
       "    </tr>\n",
       "  </tbody>\n",
       "</table>\n",
       "</div>"
      ],
      "text/plain": [
       "                                                 name         coef  \\\n",
       "0                              BUENOS AIRES - VENEZIA -1476.325800   \n",
       "1                                            CENTRALE  1438.990300   \n",
       "2                                               DUOMO  4440.954800   \n",
       "3                                GARIBALDI REPUBBLICA -2697.757700   \n",
       "4                                           GUASTALLA -1839.749800   \n",
       "5                             MACIACHINI - MAGGIOLINA -1762.750400   \n",
       "6                                MAGENTA - S. VITTORE -1177.062000   \n",
       "7                                             NAVIGLI -1814.242600   \n",
       "8                                              PAGANO -2327.406900   \n",
       "9                                               SARPI -1992.763500   \n",
       "10                                          SELINUNTE -1131.672700   \n",
       "11                                           TICINESE  -341.131300   \n",
       "12                                        VIALE MONZA -2794.117500   \n",
       "13                                         XXII MARZO -2623.632700   \n",
       "14  C(star_group)[T.Interval(4.57, 4.74, closed='r...  5128.162900   \n",
       "15  C(star_group)[T.Interval(4.74, 4.83, closed='r...  6305.173700   \n",
       "16  C(star_group)[T.Interval(4.83, 4.9, closed='ri...  8273.065900   \n",
       "17  C(star_group)[T.Interval(4.9, 4.99, closed='ri... 10980.000000   \n",
       "18                                                bed  1192.721900   \n",
       "19                                              price    63.111800   \n",
       "20                                     minimum_nights -3602.811000   \n",
       "21                                        days_online     2.197700   \n",
       "\n",
       "       std err          t    P>|t|       [0.025       0.975]  \n",
       "0   856.683000  -1.723000 0.085000 -3155.956000   203.304000  \n",
       "1   930.890000   1.546000 0.122000  -386.132000  3264.113000  \n",
       "2   890.753000   4.986000 0.000000  2694.526000  6187.383000  \n",
       "3  1288.711000  -2.093000 0.036000 -5224.431000  -171.084000  \n",
       "4  1237.902000  -1.486000 0.137000 -4266.804000   587.305000  \n",
       "5  1304.139000  -1.352000 0.177000 -4319.672000   794.171000  \n",
       "6  1233.330000  -0.954000 0.340000 -3595.153000  1241.029000  \n",
       "7   963.213000  -1.884000 0.060000 -3702.738000    74.253000  \n",
       "8  1567.745000  -1.485000 0.138000 -5401.159000   746.345000  \n",
       "9   963.667000  -2.068000 0.039000 -3882.149000  -103.378000  \n",
       "10 1526.633000  -0.741000 0.459000 -4124.819000  1861.474000  \n",
       "11  977.270000  -0.349000 0.727000 -2257.186000  1574.923000  \n",
       "12 1344.525000  -2.078000 0.038000 -5430.220000  -158.015000  \n",
       "13 1106.284000  -2.372000 0.018000 -4792.636000  -454.630000  \n",
       "14  618.454000   8.292000 0.000000  3915.609000  6340.717000  \n",
       "15  624.887000  10.090000 0.000000  5080.009000  7530.339000  \n",
       "16  630.168000  13.128000 0.000000  7037.545000  9508.587000  \n",
       "17  643.342000  17.071000 0.000000  9721.394000 12200.000000  \n",
       "18  240.010000   4.969000 0.000000   722.153000  1663.291000  \n",
       "19    5.767000  10.943000 0.000000    51.804000    74.419000  \n",
       "20  243.133000 -14.818000 0.000000 -4079.502000 -3126.120000  \n",
       "21    0.200000  11.002000 0.000000     1.806000     2.589000  "
      ]
     },
     "execution_count": 140,
     "metadata": {},
     "output_type": "execute_result"
    }
   ],
   "source": [
    "results"
   ]
  },
  {
   "cell_type": "code",
   "execution_count": 141,
   "metadata": {},
   "outputs": [],
   "source": [
    "# Export for Tableau\n",
    "\n",
    "results.to_csv(r'C:\\Users\\matte\\OneDrive\\Desktop\\GitHub\\data\\Airbnb\\for_talbeau\\results.csv')"
   ]
  },
  {
   "cell_type": "markdown",
   "metadata": {},
   "source": [
    "#### Price forecast"
   ]
  },
  {
   "cell_type": "code",
   "execution_count": 60,
   "metadata": {},
   "outputs": [],
   "source": [
    "# Create a dataframe with the predicted value for price\n",
    "\n",
    "x_price = np.arange(df2.price.min(), df2.price.max()+1)\n",
    "high_band_price = x_price * results.loc[results['name']=='price', '0.975]'].values\n",
    "low_band_price = x_price * results.loc[results['name']=='price', '[0.025'].values\n",
    "\n",
    "price_forecast = pd.DataFrame({'high': high_band_price, 'low': low_band_price, 'x':x_price})"
   ]
  },
  {
   "cell_type": "code",
   "execution_count": 61,
   "metadata": {},
   "outputs": [
    {
     "data": {
      "text/html": [
       "<div>\n",
       "<style scoped>\n",
       "    .dataframe tbody tr th:only-of-type {\n",
       "        vertical-align: middle;\n",
       "    }\n",
       "\n",
       "    .dataframe tbody tr th {\n",
       "        vertical-align: top;\n",
       "    }\n",
       "\n",
       "    .dataframe thead th {\n",
       "        text-align: right;\n",
       "    }\n",
       "</style>\n",
       "<table border=\"1\" class=\"dataframe\">\n",
       "  <thead>\n",
       "    <tr style=\"text-align: right;\">\n",
       "      <th></th>\n",
       "      <th>high</th>\n",
       "      <th>low</th>\n",
       "      <th>x</th>\n",
       "    </tr>\n",
       "  </thead>\n",
       "  <tbody>\n",
       "    <tr>\n",
       "      <th>0</th>\n",
       "      <td>1786.056000</td>\n",
       "      <td>1243.296000</td>\n",
       "      <td>24.000000</td>\n",
       "    </tr>\n",
       "    <tr>\n",
       "      <th>1</th>\n",
       "      <td>1860.475000</td>\n",
       "      <td>1295.100000</td>\n",
       "      <td>25.000000</td>\n",
       "    </tr>\n",
       "    <tr>\n",
       "      <th>2</th>\n",
       "      <td>1934.894000</td>\n",
       "      <td>1346.904000</td>\n",
       "      <td>26.000000</td>\n",
       "    </tr>\n",
       "    <tr>\n",
       "      <th>3</th>\n",
       "      <td>2009.313000</td>\n",
       "      <td>1398.708000</td>\n",
       "      <td>27.000000</td>\n",
       "    </tr>\n",
       "    <tr>\n",
       "      <th>4</th>\n",
       "      <td>2083.732000</td>\n",
       "      <td>1450.512000</td>\n",
       "      <td>28.000000</td>\n",
       "    </tr>\n",
       "  </tbody>\n",
       "</table>\n",
       "</div>"
      ],
      "text/plain": [
       "         high         low         x\n",
       "0 1786.056000 1243.296000 24.000000\n",
       "1 1860.475000 1295.100000 25.000000\n",
       "2 1934.894000 1346.904000 26.000000\n",
       "3 2009.313000 1398.708000 27.000000\n",
       "4 2083.732000 1450.512000 28.000000"
      ]
     },
     "execution_count": 61,
     "metadata": {},
     "output_type": "execute_result"
    }
   ],
   "source": [
    "price_forecast.head()"
   ]
  },
  {
   "cell_type": "code",
   "execution_count": 68,
   "metadata": {},
   "outputs": [
    {
     "data": {
      "text/plain": [
       "PearsonRResult(statistic=-0.1118290139963778, pvalue=5.903225788413233e-19)"
      ]
     },
     "execution_count": 68,
     "metadata": {},
     "output_type": "execute_result"
    }
   ],
   "source": [
    "from scipy.stats import pearsonr\n",
    "\n",
    "pearsonr(df['number_of_reviews_ltm'], df['price'])"
   ]
  },
  {
   "cell_type": "code",
   "execution_count": 142,
   "metadata": {},
   "outputs": [],
   "source": [
    "# Export for Tableau\n",
    "\n",
    "price_forecast.to_csv(r'C:\\Users\\matte\\OneDrive\\Desktop\\GitHub\\data\\Airbnb\\for_talbeau\\price_forecast.csv',\n",
    "                      index=None)"
   ]
  },
  {
   "cell_type": "code",
   "execution_count": 62,
   "metadata": {},
   "outputs": [
    {
     "name": "stderr",
     "output_type": "stream",
     "text": [
      "c:\\Users\\matte\\anaconda3\\Lib\\site-packages\\seaborn\\_oldcore.py:1498: FutureWarning: is_categorical_dtype is deprecated and will be removed in a future version. Use isinstance(dtype, CategoricalDtype) instead\n",
      "  if pd.api.types.is_categorical_dtype(vector):\n",
      "c:\\Users\\matte\\anaconda3\\Lib\\site-packages\\seaborn\\_oldcore.py:1498: FutureWarning: is_categorical_dtype is deprecated and will be removed in a future version. Use isinstance(dtype, CategoricalDtype) instead\n",
      "  if pd.api.types.is_categorical_dtype(vector):\n",
      "c:\\Users\\matte\\anaconda3\\Lib\\site-packages\\seaborn\\_oldcore.py:1119: FutureWarning: use_inf_as_na option is deprecated and will be removed in a future version. Convert inf values to NaN before operating instead.\n",
      "  with pd.option_context('mode.use_inf_as_na', True):\n",
      "c:\\Users\\matte\\anaconda3\\Lib\\site-packages\\seaborn\\_oldcore.py:1119: FutureWarning: use_inf_as_na option is deprecated and will be removed in a future version. Convert inf values to NaN before operating instead.\n",
      "  with pd.option_context('mode.use_inf_as_na', True):\n",
      "c:\\Users\\matte\\anaconda3\\Lib\\site-packages\\seaborn\\_oldcore.py:1498: FutureWarning: is_categorical_dtype is deprecated and will be removed in a future version. Use isinstance(dtype, CategoricalDtype) instead\n",
      "  if pd.api.types.is_categorical_dtype(vector):\n",
      "c:\\Users\\matte\\anaconda3\\Lib\\site-packages\\seaborn\\_oldcore.py:1498: FutureWarning: is_categorical_dtype is deprecated and will be removed in a future version. Use isinstance(dtype, CategoricalDtype) instead\n",
      "  if pd.api.types.is_categorical_dtype(vector):\n",
      "c:\\Users\\matte\\anaconda3\\Lib\\site-packages\\seaborn\\_oldcore.py:1119: FutureWarning: use_inf_as_na option is deprecated and will be removed in a future version. Convert inf values to NaN before operating instead.\n",
      "  with pd.option_context('mode.use_inf_as_na', True):\n",
      "c:\\Users\\matte\\anaconda3\\Lib\\site-packages\\seaborn\\_oldcore.py:1119: FutureWarning: use_inf_as_na option is deprecated and will be removed in a future version. Convert inf values to NaN before operating instead.\n",
      "  with pd.option_context('mode.use_inf_as_na', True):\n"
     ]
    },
    {
     "data": {
      "image/png": "[encoded data removed]",
      "text/plain": [
       "<Figure size 640x480 with 1 Axes>"
      ]
     },
     "metadata": {},
     "output_type": "display_data"
    }
   ],
   "source": [
    "ax = sns.lineplot(x=price_forecast['x'], y=price_forecast['low'])\n",
    "sns.lineplot(x=price_forecast['x'], y=price_forecast['high'], ax=ax);"
   ]
  },
  {
   "cell_type": "markdown",
   "metadata": {},
   "source": [
    "#### Days online forecast"
   ]
  },
  {
   "cell_type": "code",
   "execution_count": 63,
   "metadata": {},
   "outputs": [],
   "source": [
    "x_days = np.arange(df2.days_online.min(), 3500)\n",
    "high_band_days = x_days * results.loc[results['name']=='days_online', '0.975]'].values\n",
    "low_band_days = x_days * results.loc[results['name']=='days_online', '[0.025'].values\n",
    "\n",
    "days_forecast = pd.DataFrame({'high': high_band_days,\n",
    "                               'low': low_band_days, 'x':x_days})"
   ]
  },
  {
   "cell_type": "code",
   "execution_count": 143,
   "metadata": {},
   "outputs": [],
   "source": [
    "# Export for Tableau\n",
    "\n",
    "days_forecast.to_csv(r'C:\\Users\\matte\\OneDrive\\Desktop\\GitHub\\data\\Airbnb\\for_talbeau\\days_forecast.csv',\n",
    "                      index=None)"
   ]
  },
  {
   "cell_type": "code",
   "execution_count": 64,
   "metadata": {},
   "outputs": [
    {
     "name": "stderr",
     "output_type": "stream",
     "text": [
      "c:\\Users\\matte\\anaconda3\\Lib\\site-packages\\seaborn\\_oldcore.py:1498: FutureWarning: is_categorical_dtype is deprecated and will be removed in a future version. Use isinstance(dtype, CategoricalDtype) instead\n",
      "  if pd.api.types.is_categorical_dtype(vector):\n",
      "c:\\Users\\matte\\anaconda3\\Lib\\site-packages\\seaborn\\_oldcore.py:1498: FutureWarning: is_categorical_dtype is deprecated and will be removed in a future version. Use isinstance(dtype, CategoricalDtype) instead\n",
      "  if pd.api.types.is_categorical_dtype(vector):\n",
      "c:\\Users\\matte\\anaconda3\\Lib\\site-packages\\seaborn\\_oldcore.py:1119: FutureWarning: use_inf_as_na option is deprecated and will be removed in a future version. Convert inf values to NaN before operating instead.\n",
      "  with pd.option_context('mode.use_inf_as_na', True):\n",
      "c:\\Users\\matte\\anaconda3\\Lib\\site-packages\\seaborn\\_oldcore.py:1119: FutureWarning: use_inf_as_na option is deprecated and will be removed in a future version. Convert inf values to NaN before operating instead.\n",
      "  with pd.option_context('mode.use_inf_as_na', True):\n",
      "c:\\Users\\matte\\anaconda3\\Lib\\site-packages\\seaborn\\_oldcore.py:1498: FutureWarning: is_categorical_dtype is deprecated and will be removed in a future version. Use isinstance(dtype, CategoricalDtype) instead\n",
      "  if pd.api.types.is_categorical_dtype(vector):\n",
      "c:\\Users\\matte\\anaconda3\\Lib\\site-packages\\seaborn\\_oldcore.py:1498: FutureWarning: is_categorical_dtype is deprecated and will be removed in a future version. Use isinstance(dtype, CategoricalDtype) instead\n",
      "  if pd.api.types.is_categorical_dtype(vector):\n",
      "c:\\Users\\matte\\anaconda3\\Lib\\site-packages\\seaborn\\_oldcore.py:1119: FutureWarning: use_inf_as_na option is deprecated and will be removed in a future version. Convert inf values to NaN before operating instead.\n",
      "  with pd.option_context('mode.use_inf_as_na', True):\n",
      "c:\\Users\\matte\\anaconda3\\Lib\\site-packages\\seaborn\\_oldcore.py:1119: FutureWarning: use_inf_as_na option is deprecated and will be removed in a future version. Convert inf values to NaN before operating instead.\n",
      "  with pd.option_context('mode.use_inf_as_na', True):\n"
     ]
    },
    {
     "data": {
      "text/plain": [
       "<Axes: xlabel='x', ylabel='low'>"
      ]
     },
     "execution_count": 64,
     "metadata": {},
     "output_type": "execute_result"
    },
    {
     "data": {
      "image/png": "[encoded data removed]",
      "text/plain": [
       "<Figure size 640x480 with 1 Axes>"
      ]
     },
     "metadata": {},
     "output_type": "display_data"
    }
   ],
   "source": [
    "ax = sns.lineplot(x=days_forecast['x'], y=days_forecast['low'])\n",
    "sns.lineplot(x=days_forecast['x'], y=days_forecast['high'], ax=ax)"
   ]
  }
 ],
 "metadata": {
  "kernelspec": {
   "display_name": "base",
   "language": "python",
   "name": "python3"
  },
  "language_info": {
   "codemirror_mode": {
    "name": "ipython",
    "version": 3
   },
   "file_extension": ".py",
   "mimetype": "text/x-python",
   "name": "python",
   "nbconvert_exporter": "python",
   "pygments_lexer": "ipython3",
   "version": "3.11.5"
  }
 },
 "nbformat": 4,
 "nbformat_minor": 2
}
